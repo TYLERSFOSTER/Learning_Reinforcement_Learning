{
 "cells": [
  {
   "cell_type": "markdown",
   "id": "54a1e37e",
   "metadata": {},
   "source": [
    "# Voice leading reinforcement learning agents."
   ]
  },
  {
   "cell_type": "markdown",
   "id": "77219ad5",
   "metadata": {},
   "source": [
    "## Introduction.\n",
    "[...]"
   ]
  },
  {
   "cell_type": "markdown",
   "id": "45011e38",
   "metadata": {},
   "source": [
    "$$\n",
    "\\mathbb{E}[\\text{return}|\\alpha, s]\n",
    "\\ =\\ \n",
    "\\text{reward}+\\underset{\\ \\beta\\ \\in\\ \\mathcal{A}_{\\alpha(s)}\\!\\!}{\\text{max}}\\mathbb{E}\\left[\\text{return}|\\beta, \\alpha(s)\\right]\n",
    "$$\n",
    "\n",
    "$$\n",
    "v(\\alpha, s)\n",
    "\\ =\\ \n",
    "R(\\alpha)+\\underset{\\ \\beta\\ \\in\\ \\mathcal{A}_{\\alpha(s)}\\!\\!}{\\text{max}}v\\big(\\beta, \\alpha(s)\\big)\n",
    "$$"
   ]
  },
  {
   "cell_type": "code",
   "execution_count": 73,
   "id": "526142e0",
   "metadata": {},
   "outputs": [],
   "source": [
    "import copy\n",
    "\n",
    "import random\n",
    "import math\n",
    "import numpy as np\n",
    "from inspect import isfunction\n",
    "\n",
    "import torch\n",
    "import torch.nn as nn\n",
    "\n",
    "from tqdm import tqdm"
   ]
  },
  {
   "cell_type": "markdown",
   "id": "74896442-e50a-4b35-9aa4-d999c4168467",
   "metadata": {},
   "source": [
    "___"
   ]
  },
  {
   "cell_type": "markdown",
   "id": "de0b5828",
   "metadata": {},
   "source": [
    "## Classes for various aspects of music theory.\n",
    "The various Python classes we define in this section collect important aspects of music theory relevant to problem of voice leading. Using MIDI standard encoding for instance, every note in the scale can be assigned an integer value between $0$ and $127$. In this way, a solution to any voice leading problem can be encoded completely numerically. However, the reward functions for the sequence of step-by-step actions that constitute a proposed solution to a voice leading problem depend on musical theoretical considerations. We will use the classes we define in the present section in order to evaluation remards for our agent's actions."
   ]
  },
  {
   "cell_type": "markdown",
   "id": "cd98d1ee",
   "metadata": {},
   "source": [
    "### Classes related to harmony and melody."
   ]
  },
  {
   "cell_type": "markdown",
   "id": "861a6c70",
   "metadata": {},
   "source": [
    "#### Class: `Notes`\n",
    "Parent(s): *none*\n",
    "\n",
    "Constructor arguments: *none*"
   ]
  },
  {
   "cell_type": "code",
   "execution_count": 74,
   "id": "f9ddc7d2",
   "metadata": {},
   "outputs": [],
   "source": [
    "class Notes():\n",
    "    def __init__(self):\n",
    "        \n",
    "        valmod12_to_class = {0: ('C', 'C'),\n",
    "            1: ('C♯', 'D♭'),\n",
    "            2: ('D', 'D'),\n",
    "            3: ('D♯', 'E♭'),\n",
    "            4: ('E', 'E'),\n",
    "            5: ('F', 'F'),\n",
    "            6: ('F♯', 'G♭'),\n",
    "            7: ('G', 'G'),\n",
    "            8: ('G♯', 'A♭'),\n",
    "            9: ('A', 'A'),\n",
    "            10: ('A♯', 'B♭'),\n",
    "            11: ('B', 'B')}\n",
    "        self.valmod12_to_class = valmod12_to_class\n",
    "        \n",
    "        all_note_class_names = []\n",
    "        for key in self.valmod12_to_class:\n",
    "            class_pair = self.valmod12_to_class[key]\n",
    "            all_note_class_names.append(class_pair[0])\n",
    "            all_note_class_names.append(class_pair[1])\n",
    "        self.all_note_class_names = all_note_class_names\n",
    "        \n",
    "        class_to_valmod12 = {}\n",
    "        for key in self.valmod12_to_class:\n",
    "            class_pair = self.valmod12_to_class[key]\n",
    "            for entry in class_pair:\n",
    "                class_to_valmod12.update({entry: key})\n",
    "        self.class_to_valmod12 = class_to_valmod12\n",
    "        \n",
    "        value_to_class = {}\n",
    "        for value in range(128):\n",
    "            valmod12 = value%12\n",
    "            class_pair = self.valmod12_to_class[valmod12]\n",
    "            value_to_class.update({value: class_pair})\n",
    "        self.value_to_class = value_to_class\n",
    "        \n",
    "        note_to_value = {}\n",
    "        for value in self.value_to_class:\n",
    "            class_pair = self.value_to_class[value]\n",
    "            sharp_class = class_pair[0]\n",
    "            flat_class = class_pair[1]\n",
    "            valmod12 = value%12\n",
    "            octave = -1 + int((value - valmod12)/12)\n",
    "            note_to_value.update({sharp_class+'{}'.format(octave): value})\n",
    "            note_to_value.update({flat_class+'{}'.format(octave): value})\n",
    "        self.note_to_value = note_to_value"
   ]
  },
  {
   "cell_type": "markdown",
   "id": "b42276ae-9e63-41fd-9fe3-8588f0624919",
   "metadata": {},
   "source": [
    "Testing:"
   ]
  },
  {
   "cell_type": "code",
   "execution_count": 75,
   "id": "ffd82563-f694-44bc-b0cb-c8e19ba9b9d3",
   "metadata": {},
   "outputs": [
    {
     "name": "stdout",
     "output_type": "stream",
     "text": [
      "True\n",
      "True\n",
      "True\n",
      "True\n"
     ]
    }
   ],
   "source": [
    "notes = Notes()\n",
    "print(notes.valmod12_to_class[8][0] == 'G♯')\n",
    "print(notes.class_to_valmod12['E♭'] == 3)\n",
    "print(notes.value_to_class[54] == ('F♯', 'G♭'))\n",
    "print(notes.note_to_value['E♭2'] == 39)"
   ]
  },
  {
   "cell_type": "markdown",
   "id": "538a25c5",
   "metadata": {},
   "source": [
    "#### Class: `Scales`\n",
    "Parent(s):\n",
    "\n",
    "Constructor arguments: *none*"
   ]
  },
  {
   "cell_type": "code",
   "execution_count": 76,
   "id": "eaca2af7",
   "metadata": {},
   "outputs": [],
   "source": [
    "class Scales():\n",
    "    def __init__(self):\n",
    "        \n",
    "        # Construct modern mode degrees, ascending and descending, as attributes:\n",
    "        self.long_step_sequence = [2, 2, 1, 2, 2, 2, 1, 2, 2, 1, 2, 2, 2]\n",
    "        \n",
    "        self.mode_start = {'Ionian': 0,\n",
    "            'Dorian': 1,\n",
    "            'Phrygian': 2,\n",
    "            'Lydian': 3,\n",
    "            'Mixolydian': 4,\n",
    "            'Aeolian': 5,\n",
    "            'Locrian': 6}\n",
    "        \n",
    "        modern_mode_steps = {}\n",
    "        for key, value in self.mode_start.items():\n",
    "            mode = key\n",
    "            start_position = value\n",
    "            current_mode_steps = [self.long_step_sequence[i] for i in range(start_position, start_position+7)]\n",
    "            modern_mode_steps.update({mode: current_mode_steps})\n",
    "        self.modern_mode_steps = modern_mode_steps\n",
    "        \n",
    "        updown_mode_degrees = {}\n",
    "        for key, value in self.modern_mode_steps.items():\n",
    "            mode = key\n",
    "            step_sequence = value\n",
    "            degree_sequence = [0]\n",
    "            for i, step in enumerate(step_sequence):\n",
    "                scale_degree = degree_sequence[i]\n",
    "                new_scale_degree = (scale_degree + step)%12\n",
    "                degree_sequence.append(new_scale_degree)\n",
    "                rev_degree_sequence = degree_sequence[::-1]\n",
    "            updown_mode_degrees.update({mode: {'up': copy.deepcopy(degree_sequence),\n",
    "                                     'down': copy.deepcopy(rev_degree_sequence)}})\n",
    "        \n",
    "        # Construct Major mode degrees, ascending and descending, as attributes:\n",
    "        major_updown = updown_mode_degrees['Ionian']\n",
    "        updown_mode_degrees.update({'Major': copy.deepcopy(major_updown)})\n",
    "\n",
    "        # Construct Natural minor mode degrees, ascending and descending, as attributes:\n",
    "        natural_minor_updown = updown_mode_degrees['Aeolian']\n",
    "        updown_mode_degrees.update({'Natural_minor': copy.deepcopy(natural_minor_updown)})\n",
    "\n",
    "        # Construct Harmonic minor mode degrees, ascending and descending, as attributes:\n",
    "        harmonic_minor_steps = [2, 1, 2, 2, 1, 3, 1]\n",
    "        harmonic_minor_degree_sequence = [0]\n",
    "        for i, step in enumerate(harmonic_minor_steps):\n",
    "            scale_degree = harmonic_minor_degree_sequence[i]\n",
    "            new_scale_degree = (scale_degree + step)%12\n",
    "            harmonic_minor_degree_sequence.append(new_scale_degree)\n",
    "            rev_harmonic_minor_degree_sequence = harmonic_minor_degree_sequence[::-1]\n",
    "        updown_mode_degrees.update({'Harmonic_minor': {'up': copy.deepcopy(harmonic_minor_degree_sequence),\n",
    "                                                     'down': copy.deepcopy(rev_harmonic_minor_degree_sequence)}})\n",
    "\n",
    "        # Construct Melodic minor mode degrees, ascending and descending, as attributes:\n",
    "        melodic_minor_steps_up = [2, 2, 1, 2, 2, 2, 1]\n",
    "        melodic_minor_degrees_up = [0]\n",
    "        for i in range(7):\n",
    "            current_degree = melodic_minor_degrees_up[i]\n",
    "            next_degree = (current_degree + melodic_minor_steps_up[i])%12\n",
    "            melodic_minor_degrees_up.append(next_degree)\n",
    "        melodic_minor_steps_down = [2, 2, 1, 2, 1, 2, 2]\n",
    "        melodic_minor_degrees_down = [0]\n",
    "        for i in range(7):\n",
    "            current_degree = melodic_minor_degrees_down[i]\n",
    "            next_degree = (current_degree - melodic_minor_steps_down[i])%12\n",
    "            melodic_minor_degrees_down.append(next_degree)\n",
    "        updown_mode_degrees.update({'Melodic_minor': {'up': copy.deepcopy(melodic_minor_degrees_up),\n",
    "                                                    'down': copy.deepcopy(melodic_minor_degrees_down)}})\n",
    "\n",
    "        # Combine all ascending and descending mode degrees into attribute dictionary:\n",
    "        self.updown_mode_degrees = updown_mode_degrees\n",
    "\n",
    "        # Collect all modes constructed as list attribute:\n",
    "        mode_list = [key for key in self.updown_mode_degrees]\n",
    "        self.mode_list = mode_list\n",
    " \n",
    "    # Method for querying the ascending/descending mode degree dictionary attribute:\n",
    "    def updown_degrees(self, mode):\n",
    "        assert mode in self.mode_list\n",
    "        output = self.updown_mode_degrees[mode]\n",
    "        return output\n",
    "        "
   ]
  },
  {
   "cell_type": "markdown",
   "id": "33b425b5",
   "metadata": {},
   "source": [
    "Testing:"
   ]
  },
  {
   "cell_type": "code",
   "execution_count": 77,
   "id": "6f8baf31",
   "metadata": {},
   "outputs": [],
   "source": [
    "scales = Scales()"
   ]
  },
  {
   "cell_type": "markdown",
   "id": "9c233e02",
   "metadata": {},
   "source": [
    "#### Class: `Key`\n",
    "Parent(s):\n",
    "\n",
    "Constructor arguments:\n",
    "* *root* = `'C'`, \n",
    "* *mode* = `'Major'`\n",
    "\n",
    "**Important.** The constructor for the `Key` class constructs an instance each of the `Notes` and `Scales` classes as attributes of `Key`."
   ]
  },
  {
   "cell_type": "code",
   "execution_count": 78,
   "id": "73ab95c8",
   "metadata": {},
   "outputs": [],
   "source": [
    "class Key():\n",
    "    def __init__(self,\n",
    "                 root = 'C',\n",
    "                 mode = 'Major'):\n",
    "        \n",
    "        self.notes = Notes()\n",
    "        self.scales = Scales()\n",
    "        \n",
    "        assert root in self.notes.all_note_class_names\n",
    "        assert mode in self.scales.mode_list\n",
    "        \n",
    "        self.root_class = root\n",
    "        self.root_valmod12 = self.notes.class_to_valmod12[self.root_class]\n",
    "        \n",
    "        self.mode = mode\n",
    "        \n",
    "        self.scale_degrees = self.scales.updown_degrees(mode = self.mode)\n",
    "        self.up_degrees = self.scale_degrees['up']\n",
    "        self.triad_degrees = [self.up_degrees[i] for i in [0,2,4]]\n",
    "        self.triad_valsmod12 = [(self.root_valmod12 + degree)%12 for degree in self.triad_degrees]"
   ]
  },
  {
   "cell_type": "markdown",
   "id": "88ca6f4e",
   "metadata": {},
   "source": [
    "Testing:"
   ]
  },
  {
   "cell_type": "code",
   "execution_count": 79,
   "id": "810e6ed2",
   "metadata": {},
   "outputs": [
    {
     "name": "stdout",
     "output_type": "stream",
     "text": [
      "True\n",
      "True\n"
     ]
    }
   ],
   "source": [
    "key = Key(root = 'E', mode = 'Melodic_minor')\n",
    "print(key.triad_degrees == [0, 4, 7])\n",
    "print(key.triad_valsmod12 == [4, 8, 11])"
   ]
  },
  {
   "cell_type": "markdown",
   "id": "35dad6e7",
   "metadata": {},
   "source": [
    "## Classes for rewards."
   ]
  },
  {
   "cell_type": "markdown",
   "id": "5ec9227e",
   "metadata": {},
   "source": [
    "### Classes for progress-to-final-interval rewards."
   ]
  },
  {
   "cell_type": "markdown",
   "id": "ed019712",
   "metadata": {},
   "source": [
    "#### Class: `SmallProgtoFinScheme`\n",
    "Parent(s): *none*\n",
    "\n",
    "Constructor arguments:"
   ]
  },
  {
   "cell_type": "code",
   "execution_count": 80,
   "id": "8cc82ce8",
   "metadata": {},
   "outputs": [],
   "source": [
    "class SmallProgtoFinSchema():\n",
    "    def __init__(self):\n",
    "        pass\n",
    "        \n",
    "    def reward(self,\n",
    "        chord_0 = np.array([73, 76]),\n",
    "        chord_1 = np.array([72, 74]),\n",
    "        final_chord = np.array([35, 45])):\n",
    "        \n",
    "        assert len(chord_0) == len(chord_1) == len(final_chord)\n",
    "        \n",
    "        n = len(final_chord)\n",
    "        \n",
    "        centroid_0 = np.sum(chord_0)/n\n",
    "        centroid_1 = np.sum(chord_1)/n\n",
    "        final_centroid = np.sum(final_chord)/n\n",
    "        \n",
    "        needed_change = final_centroid - centroid_0\n",
    "        #needed_direction = np.sign(needed_change)\n",
    "        \n",
    "        actual_change = centroid_1 - centroid_0\n",
    "        #actual_direction = np.sign(actual_change)\n",
    "        \n",
    "        if actual_change == 0.:\n",
    "            change_ratio = -100.\n",
    "        else:\n",
    "            change_ratio = needed_change/actual_change\n",
    "        \n",
    "        return change_ratio"
   ]
  },
  {
   "cell_type": "markdown",
   "id": "b0be524f",
   "metadata": {},
   "source": [
    "Testing:"
   ]
  },
  {
   "cell_type": "code",
   "execution_count": 81,
   "id": "4788c9a3",
   "metadata": {},
   "outputs": [
    {
     "name": "stdout",
     "output_type": "stream",
     "text": [
      "69.0\n",
      "-1.0\n",
      "-100.0\n"
     ]
    }
   ],
   "source": [
    "small_prog_to_fin_scheme = SmallProgtoFinSchema()\n",
    "\n",
    "print(small_prog_to_fin_scheme.reward(chord_0 = np.array([73, 76]),\n",
    "                                      chord_1 = np.array([73, 75]),\n",
    "                                      final_chord = np.array([35, 45])))\n",
    "\n",
    "print(small_prog_to_fin_scheme.reward(chord_0 = np.array([73, 76]),\n",
    "                                      chord_1 = np.array([73, 75]),\n",
    "                                      final_chord = np.array([73, 77])))\n",
    "\n",
    "print(small_prog_to_fin_scheme.reward(chord_0 = np.array([73, 76]),\n",
    "                                      chord_1 = np.array([73, 76]),\n",
    "                                      final_chord = np.array([74, 78])))"
   ]
  },
  {
   "cell_type": "markdown",
   "id": "01f37d18-523e-48f6-9e40-d71f0edab83c",
   "metadata": {},
   "source": [
    "___"
   ]
  },
  {
   "cell_type": "markdown",
   "id": "b7d18b98",
   "metadata": {},
   "source": [
    "## Agent classes."
   ]
  },
  {
   "cell_type": "markdown",
   "id": "97f0ecc7-ffb0-42e2-ac89-5d34fadd0bb9",
   "metadata": {},
   "source": [
    "#### Function: `randinterval`\n",
    "Arguments: *none*\n",
    "\n",
    "**Remark.** It occurs to me that I was introducing inductive biases into the agent with the way I had this `randchord` function written. I was randomly selecting an `np.array` $[i_0, i_1, \\dots, i_{n-1}]$ by selecting $i_0$, then selecting $i_1>i_0$, and so on, within a given range. With a bit of thought though, it becomes clear that this method is not *independent and identically distributed* (iid). For instance, if we draw a pair or integers $i_0 < i_1$ from the set $[0,1,2]$ using this method, then the probability density ends up being\n",
    "$$\\rho([0,1])=\\tfrac{1}{4},\\ \\ \\ \\ \\ \\ \\rho([0,2])=\\tfrac{1}{4},\\ \\ \\ \\ \\ \\ \\text{and}\\ \\ \\ \\ \\ \\ \\rho([1,2])=\\tfrac{1}{2}.$$"
   ]
  },
  {
   "cell_type": "code",
   "execution_count": 82,
   "id": "1d71dbce-b106-4710-aa4e-708cf87eddcc",
   "metadata": {},
   "outputs": [],
   "source": [
    "class RandomChord():\n",
    "    def __init__(self, chord_size = 3, lower_limit = 0, upper_limit = 127):\n",
    "        assert isinstance(chord_size, int)\n",
    "        assert chord_size > 0\n",
    "        assert isinstance(lower_limit, int)\n",
    "        assert isinstance(upper_limit, int)\n",
    "        assert lower_limit <= upper_limit\n",
    "        assert chord_size <= upper_limit - lower_limit + 1\n",
    "        \n",
    "        self.chord_size = chord_size\n",
    "        self.lower_limit = lower_limit\n",
    "        self.upper_limit = upper_limit\n",
    "        \n",
    "        admissible_chords = [[k] for k in range(self.lower_limit, self.upper_limit + 2 - self.chord_size)]\n",
    "        for i in range(1, self.chord_size):\n",
    "            new_admissible_chords = []\n",
    "            for running_chord in admissible_chords:\n",
    "                new_lower_limit = running_chord[-1] + 1\n",
    "                for k in range(new_lower_limit, self.upper_limit + 2 - self.chord_size + i):\n",
    "                    new_chord = running_chord + [k] \n",
    "                    new_admissible_chords.append(new_chord)\n",
    "            admissible_chords = new_admissible_chords\n",
    "        self.admissible_chords = admissible_chords\n",
    "        \n",
    "    \n",
    "    def sample(self):\n",
    "        chord = random.choice(self.admissible_chords)\n",
    "        return chord"
   ]
  },
  {
   "cell_type": "markdown",
   "id": "d1c8c161-d8cb-494c-9b44-a6226a9da862",
   "metadata": {},
   "source": [
    "Testing:"
   ]
  },
  {
   "cell_type": "code",
   "execution_count": 83,
   "id": "9216dd2e-9317-4e90-9f01-b78f8c2fb258",
   "metadata": {},
   "outputs": [
    {
     "name": "stdout",
     "output_type": "stream",
     "text": [
      "True\n",
      "True\n",
      "True\n",
      "True\n"
     ]
    }
   ],
   "source": [
    "random_chord = RandomChord(chord_size = 3, lower_limit = 0, upper_limit = 5)\n",
    "\n",
    "for i in range(4):\n",
    "    output = random_chord.sample()\n",
    "    print(output[0]<output[1]<output[2])"
   ]
  },
  {
   "cell_type": "markdown",
   "id": "45b00550-aed5-489d-a73c-9ca72c391351",
   "metadata": {},
   "source": [
    "#### Class: `ActionValue_Spec1`\n",
    "Parent(s): `torch.nn.Module`\n",
    "\n",
    "Constructor arguments:\n",
    "* *layer_count* = `6`\n",
    "* *layer_features* = `1000`\n",
    "\n",
    "**Remark: `ReLU` versus `Softmax`.** Because we're implicitly using the *greedy policy*, which, at each state $s$, always selects the action $\\alpha$ that maximizes the action-value $v_{\\text{greed}}(s,\\alpha)$, it might appear that the neural network that approximates $v_{\\text{greed}}(s,\\alpha)$ should use *softmax* activation at its final layer. However, the specific value of $v_{\\text{greed}}(s,\\alpha)$ is also important. This activation function $v_{\\text{greed}}(s,\\alpha)$ is supposed to output the *excpected return* $\\mathbb{E}_{\\text{greed}}[G|\\alpha,\\pi]$, which is a (potentially weighted) sum of all future rewards that the agent will obtain under the greedy policy. Because we've already specified our rewards implicitly in the various reward functions we defined above, we will run into trouble if we use softmax. Indeed, $0\\le \\text{softmax}(x)\\le 1$, whereas our reward functions can tske all sorts of integer values, sometimes negative. Thus is makes more sense to use `ReLU` or `LeakyReLU` for activation in our neural network."
   ]
  },
  {
   "cell_type": "code",
   "execution_count": 84,
   "id": "be6763a2-8d26-400b-abaf-adf625ff1e3e",
   "metadata": {},
   "outputs": [],
   "source": [
    "def onehot_tensor(index, length):\n",
    "    assert isinstance(index, int)\n",
    "    assert isinstance(length, int)\n",
    "    assert 0 <= index <= length\n",
    "    \n",
    "    onehot = torch.Tensor([float(i == index) for i in range(length)])\n",
    "    \n",
    "    return onehot"
   ]
  },
  {
   "cell_type": "code",
   "execution_count": 72,
   "id": "8f47210f-d07a-461d-a4a8-6723203be546",
   "metadata": {},
   "outputs": [],
   "source": [
    "class Policy_01(nn.Module):\n",
    "    def __init__(self,\n",
    "                 chord_size = 3,\n",
    "                 lower_limit = 0,\n",
    "                 upper_limit = 5,\n",
    "                 layer_count = 8,\n",
    "                 layer_features = 1000):\n",
    "        super().__init__()\n",
    "        \n",
    "        self.chord_size = chord_size\n",
    "        self.lower_limit = lower_limit\n",
    "        self.upper_limit = upper_limit\n",
    "        \n",
    "        self.random_chord = RandomChord(chord_size = self.chord_size,\n",
    "                                        lower_limit = self.lower_limit,\n",
    "                                        upper_limit = self.upper_limit)\n",
    "        \n",
    "        self.admissible_chord_count = len(self.random_chord.admissible_chords)\n",
    "        \n",
    "        self.index_to_chord = {i: chord for i, chord in enumerate(self.random_chord.admissible_chords)}\n",
    "        self.chord_to_index = {tuple(chord): i for i, chord in enumerate(self.random_chord.admissible_chords)}\n",
    "        self.chord_to_tensor = {tuple(chord): onehot_tensor(index, self.admissible_chord_count) \\\n",
    "                                for index, chord in enumerate(self.random_chord.admissible_chords)}\n",
    "        \n",
    "        \n",
    "        assert isinstance(layer_count, int)\n",
    "        assert layer_count > 0\n",
    "        assert isinstance(layer_features, int)\n",
    "        assert layer_features > 0\n",
    "        \n",
    "        self.layer_count = layer_count\n",
    "        self.layer_features = layer_features\n",
    "        \n",
    "        self.layers = nn.ModuleList()\n",
    "        # Critical here: the `3` in our `in_features = 3 * self.admissible_chord_count` comes from:\n",
    "        # 0: current state\n",
    "        # 1: next state\n",
    "        # 2: final (goal) state\n",
    "        # The action variable here is implict in the assignment `step current state ← next state`\n",
    "        self.layers.append(nn.Linear(in_features = 2 * self.admissible_chord_count, out_features = self.layer_features))\n",
    "        for k in range(self.layer_count-2):\n",
    "            self.layers.append(nn.Linear(in_features = self.layer_features, out_features = self.layer_features))\n",
    "            nn.init.kaiming_normal_(self.layers[-1].weight, nonlinearity='leaky_relu', a=0.01)\n",
    "            nn.init.constant_(self.layers[-1].bias, 0)\n",
    "        self.layers.append(nn.Linear(in_features = self.layer_features, out_features = self.admissible_chord_count))\n",
    "        nn.init.normal_(self.layers[-1].weight, mean=0, std=1/float(self.layer_features))\n",
    "        nn.init.constant_(self.layers[-1].bias, 0)\n",
    "        \n",
    "        self.intermediate_activation = nn.LeakyReLU(negative_slope=0.01, inplace=False)\n",
    "        #nn.Softmax(dim=-1)\n",
    "        self.last_activation = nn.Softmax(dim=-1)\n",
    "        \n",
    "        # Define proportion or neurons to dropout\n",
    "        self.dropout = nn.Dropout(0.1)\n",
    "\n",
    "        \n",
    "    def forward(self, x):\n",
    "        activated_features = x\n",
    "        for i, layer in enumerate(self.layers):\n",
    "            if 1 <= i < self.layer_count-1:\n",
    "                #print(i)\n",
    "                features = layer(activated_features) + activated_features\n",
    "                activated_features = self.intermediate_activation(features)\n",
    "                activated_features = self.dropout(features)\n",
    "            else:\n",
    "                features = layer(activated_features)\n",
    "                activated_features = self.intermediate_activation(features)\n",
    "                activated_features = self.dropout(features)\n",
    "        activated_output = self.last_activation(features)\n",
    "        \n",
    "        return activated_output\n",
    "    \n",
    "    \n",
    "    def action(self, chord_0, final_chord):\n",
    "        assert isinstance(chord_0, list)\n",
    "        assert isinstance(final_chord, list)\n",
    "        assert len(chord_0) == len(final_chord) == self.random_chord.chord_size\n",
    "        for i in range(self.random_chord.chord_size):\n",
    "            assert isinstance(chord_0[i], int)\n",
    "            assert self.random_chord.lower_limit <= chord_0[i] <= self.random_chord.upper_limit\n",
    "            assert isinstance(final_chord[i], int)\n",
    "            assert self.random_chord.lower_limit <= final_chord[i] <= self.random_chord.upper_limit\n",
    "            \n",
    "        onehot_0 = self.chord_to_tensor[tuple(chord_0)]\n",
    "        final_onehot = self.chord_to_tensor[tuple(final_chord)]\n",
    "\n",
    "        policy_input = torch.cat((onehot_0, final_onehot))\n",
    "    \n",
    "        policy_output = self.forward(policy_input)\n",
    "            \n",
    "        max_index = torch.argmax(policy_output).item()\n",
    "        \n",
    "        chord_that_maximizes = self.index_to_chord[max_index]\n",
    "                \n",
    "        return chord_that_maximizes"
   ]
  },
  {
   "cell_type": "markdown",
   "id": "88a29e88-6e20-49bb-96a0-9c6f975de891",
   "metadata": {},
   "source": [
    "Testing:"
   ]
  },
  {
   "cell_type": "code",
   "execution_count": 65,
   "id": "dd404a2f-2c6d-4aa4-a6f7-801566cf7dc1",
   "metadata": {
    "tags": []
   },
   "outputs": [
    {
     "name": "stdout",
     "output_type": "stream",
     "text": [
      "[39, 57, 58]\n"
     ]
    }
   ],
   "source": [
    "policy = Policy_01(chord_size = 3,\n",
    "                              lower_limit = 36,\n",
    "                              upper_limit = 60,\n",
    "                              layer_count = 5,\n",
    "                              layer_features = 500)\n",
    "\n",
    "x = torch.rand(2 * policy.admissible_chord_count)\n",
    "action = policy.action([36, 38, 40], [37, 39, 44])\n",
    "print(action)"
   ]
  },
  {
   "cell_type": "markdown",
   "id": "9578384d-6719-4610-881e-af68200dd0d1",
   "metadata": {},
   "source": [
    "### \"First species\" voice leading reinforcement learning agent."
   ]
  },
  {
   "cell_type": "markdown",
   "id": "5806ac6b",
   "metadata": {},
   "source": [
    "#### Class: `Agent_01`\n",
    "\n",
    "Constructor arguments:\n",
    "* *policy* = `Policy_01`, \n",
    "* *start_chord* = `[0, 1, 2]`, \n",
    "* *end_chord* = `[3, 4, 5]`, \n",
    "\n",
    "**What it does.** \n",
    "\n",
    "**Remark: Tips for future `Agent_##`s.** I"
   ]
  },
  {
   "cell_type": "code",
   "execution_count": 66,
   "id": "a22eba0d",
   "metadata": {},
   "outputs": [],
   "source": [
    "class Agent_01():\n",
    "    def __init__(self,\n",
    "                 policy = Policy_01(),\n",
    "                 start_chord = [0, 1, 2],\n",
    "                 final_chord = [3, 4, 5]):\n",
    "        \n",
    "        assert isinstance(policy, Policy_01)\n",
    "        \n",
    "        self.policy = policy\n",
    "        \n",
    "        self.chord_size = self.policy.random_chord.chord_size\n",
    "        \n",
    "        self.lower_limit = self.policy.random_chord.lower_limit\n",
    "        self.upper_limit = self.policy.random_chord.upper_limit\n",
    "        \n",
    "        self.chord_to_tensor = self.policy.chord_to_tensor\n",
    "        \n",
    "        assert isinstance(start_chord, list)\n",
    "        assert isinstance(final_chord, list)\n",
    "        assert len(start_chord) == len(final_chord) == self.chord_size\n",
    "        for i in range(self.chord_size):\n",
    "            assert isinstance(start_chord[i], int)\n",
    "            assert isinstance(final_chord[i], int)\n",
    "            assert self.lower_limit <= start_chord[i] <= self.upper_limit\n",
    "            assert self.lower_limit <= final_chord[i] <= self.upper_limit\n",
    "        \n",
    "        self.start_chord = start_chord\n",
    "        self.start_tensor = self.chord_to_tensor[tuple(self.start_chord)]\n",
    "        \n",
    "        self.final_chord = final_chord\n",
    "        self.final_tensor = self.chord_to_tensor[tuple(self.final_chord)]\n",
    "        \n",
    "        self.chord_episode = [self.start_chord]\n",
    "        self.tensor_episode = [self.start_tensor]\n",
    "        \n",
    "        self.small_prog_to_fin_scheme = SmallProgtoFinSchema()\n",
    "        \n",
    "        \n",
    "    def next_interval(self):\n",
    "        chord_0 = self.chord_episode[-1]\n",
    "        \n",
    "        next_chord = policy.action(chord_0, self.final_chord)\n",
    "        next_tensor = self.chord_to_tensor[tuple(next_chord)]\n",
    "        \n",
    "        self.chord_episode.append(next_chord)\n",
    "        self.tensor_episode.append(next_tensor)\n",
    "    \n",
    "\n",
    "    def last_reward(self):\n",
    "        assert len(self.chord_episode) > 1\n",
    "        \n",
    "        last_chord = self.chord_episode[-2]\n",
    "        last_action = self.chord_episode[-1]\n",
    "        \n",
    "        reward = self.small_prog_to_fin_scheme.reward(chord_0 = np.array(last_chord),\n",
    "                                                          chord_1 = np.array(last_action),\n",
    "                                                          final_chord = np.array(self.final_chord))\n",
    "        \n",
    "        if last_action == self.final_chord:\n",
    "            reward += 6.0\n",
    "            \n",
    "        return reward"
   ]
  },
  {
   "cell_type": "markdown",
   "id": "fa9c5c1b",
   "metadata": {},
   "source": [
    "Testing:"
   ]
  },
  {
   "cell_type": "code",
   "execution_count": 67,
   "id": "27c0bdbd",
   "metadata": {
    "tags": []
   },
   "outputs": [
    {
     "name": "stdout",
     "output_type": "stream",
     "text": [
      "[tensor([0., 0., 0.,  ..., 0., 0., 0.])] \n",
      "\n",
      "[tensor([0., 0., 0.,  ..., 0., 0., 0.]), tensor([0., 0., 0.,  ..., 0., 0., 0.])]\n",
      "1.4999999999999973 \n",
      "\n",
      "[tensor([0., 0., 0.,  ..., 0., 0., 0.]), tensor([0., 0., 0.,  ..., 0., 0., 0.]), tensor([0., 0., 0.,  ..., 0., 0., 0.])]\n",
      "0.5 \n",
      "\n",
      "[tensor([0., 0., 0.,  ..., 0., 0., 0.]), tensor([0., 0., 0.,  ..., 0., 0., 0.]), tensor([0., 0., 0.,  ..., 0., 0., 0.]), tensor([0., 0., 0.,  ..., 0., 0., 0.])]\n",
      "-0.24999999999999867 \n",
      "\n",
      "[tensor([0., 0., 0.,  ..., 0., 0., 0.]), tensor([0., 0., 0.,  ..., 0., 0., 0.]), tensor([0., 0., 0.,  ..., 0., 0., 0.]), tensor([0., 0., 0.,  ..., 0., 0., 0.]), tensor([0., 0., 0.,  ..., 0., 0., 0.])]\n",
      "-0.625000000000001 \n",
      "\n"
     ]
    }
   ],
   "source": [
    "policy = Policy_01(chord_size = 3,\n",
    "                              lower_limit = 36,\n",
    "                              upper_limit = 60,\n",
    "                              layer_count = 4,\n",
    "                              layer_features = 500)\n",
    "\n",
    "agent = Agent_01(policy = policy,\n",
    "                 start_chord = [36, 38, 40],\n",
    "                 final_chord = [37, 39, 44])\n",
    "\n",
    "print(agent.tensor_episode, '\\n')\n",
    "\n",
    "agent.next_interval()\n",
    "print(agent.tensor_episode)\n",
    "print(agent.last_reward(), '\\n')\n",
    "\n",
    "agent.next_interval()\n",
    "print(agent.tensor_episode)\n",
    "print(agent.last_reward(), '\\n')\n",
    "\n",
    "agent.next_interval()\n",
    "print(agent.tensor_episode)\n",
    "print(agent.last_reward(), '\\n')\n",
    "\n",
    "agent.next_interval()\n",
    "print(agent.tensor_episode)\n",
    "print(agent.last_reward(), '\\n')"
   ]
  },
  {
   "cell_type": "markdown",
   "id": "7ca52481-dccd-4fb3-8b30-1bd0b3cf638f",
   "metadata": {},
   "source": [
    "___"
   ]
  },
  {
   "cell_type": "markdown",
   "id": "68f2de56-540e-43a8-b58a-29923190cc58",
   "metadata": {},
   "source": [
    "## Training loop(s)."
   ]
  },
  {
   "cell_type": "markdown",
   "id": "37554400-e971-4bc3-a891-7d52b938d52d",
   "metadata": {},
   "source": [
    "### Attempt 1.\n",
    "#### Verdict(s): "
   ]
  },
  {
   "cell_type": "code",
   "execution_count": 70,
   "id": "86cd00f1-b69a-4e3f-8689-f86685221b53",
   "metadata": {},
   "outputs": [
    {
     "name": "stdout",
     "output_type": "stream",
     "text": [
      "[[48], [49], [50], [51], [52], [53], [54], [55], [56], [57], [58], [59], [60]]\n",
      "13\n"
     ]
    }
   ],
   "source": [
    "policy = Policy_01(chord_size = 1,\n",
    "                              lower_limit = 48,\n",
    "                              upper_limit = 60,\n",
    "                              layer_count = 5,\n",
    "                              layer_features = 1500)\n",
    "\n",
    "print(policy.random_chord.admissible_chords)\n",
    "print(len(policy.random_chord.admissible_chords))\n",
    "\n",
    "agent = Agent_01(policy = policy,\n",
    "                 start_chord = [55],\n",
    "                 final_chord = [55])"
   ]
  },
  {
   "cell_type": "code",
   "execution_count": 71,
   "id": "a2f1f456-e732-46ac-a6db-cae1036a8fa9",
   "metadata": {
    "collapsed": true,
    "jupyter": {
     "outputs_hidden": true
    },
    "tags": []
   },
   "outputs": [
    {
     "name": "stderr",
     "output_type": "stream",
     "text": [
      "  0%|                                         | 2/20000 [00:00<25:58, 12.83it/s]"
     ]
    },
    {
     "name": "stdout",
     "output_type": "stream",
     "text": [
      "Epsiode count: 0\n",
      "Epsiode goal: [58]\n",
      "Epsiode state sequence length = 3.\n",
      " [[50], [48], [58]]\n",
      "Reward list (length = 2):\n",
      " [-4.0, 7.0] \n",
      "\n",
      "Epsiode count: 1\n",
      "Epsiode goal: [51]\n",
      "Epsiode state sequence length = 9.\n",
      " [[58], [59], [59], [59], [54], [56], [53], [58], [51]]\n",
      "Reward list (length = 8):\n",
      " [-7.0, -100.0, -100.0, 1.600000023841858, -1.5, 1.6666666269302368, -0.4000000059604645, 7.0] \n",
      "\n",
      "Epsiode count: 2\n",
      "Epsiode goal: [58]\n",
      "Epsiode state sequence length = 11.\n",
      " [[54], [56], [54], [53], [54], [48], [48], [54], [56], [48], [58]]\n",
      "Reward list (length = 10):\n",
      " [2.0, -1.0, -4.0, 5.0, -0.6666666865348816, -100.0, 1.6666666269302368, 2.0, -0.25, 7.0] \n",
      "\n"
     ]
    },
    {
     "name": "stderr",
     "output_type": "stream",
     "text": [
      "  0%|                                         | 4/20000 [00:00<27:41, 12.03it/s]"
     ]
    },
    {
     "name": "stdout",
     "output_type": "stream",
     "text": [
      "Epsiode count: 3\n",
      "Epsiode goal: [58]\n",
      "Epsiode state sequence length = 3.\n",
      " [[59], [54], [58]]\n",
      "Reward list (length = 2):\n",
      " [0.20000000298023224, 7.0] \n",
      "\n",
      "Epsiode count: 4\n",
      "Epsiode goal: [57]\n",
      "Epsiode state sequence length = 13.\n",
      " [[59], [53], [53], [60], [53], [53], [52], [53], [53], [52], [53], [51], [53]]\n",
      "Reward list (length = 12):\n",
      " [0.3333333432674408, -100.0, 0.5714285969734192, 0.4285714328289032, -100.0, -4.0, 5.0, -100.0, -4.0, 5.0, -2.0, 3.0] \n",
      "\n"
     ]
    },
    {
     "name": "stderr",
     "output_type": "stream",
     "text": [
      "  0%|                                         | 6/20000 [00:00<41:08,  8.10it/s]"
     ]
    },
    {
     "name": "stdout",
     "output_type": "stream",
     "text": [
      "Epsiode count: 5\n",
      "Epsiode goal: [52]\n",
      "Epsiode state sequence length = 13.\n",
      " [[56], [55], [58], [60], [58], [56], [58], [56], [58], [60], [58], [56], [58]]\n",
      "Reward list (length = 12):\n",
      " [4.0, -1.0, -3.0, 4.0, 3.0, -2.0, 3.0, -2.0, -3.0, 4.0, 3.0, -2.0] \n",
      "\n",
      "Epsiode count: 6\n",
      "Epsiode goal: [51]\n",
      "Epsiode state sequence length = 1.\n",
      " [[51]]\n",
      "Reward list (length = 0):\n",
      " [] \n",
      "\n",
      "Epsiode count: 7\n",
      "Epsiode goal: [50]\n",
      "Epsiode state sequence length = 13.\n",
      " [[48], [48], [60], [60], [51], [53], [51], [51], [56], [54], [51], [51], [58]]\n",
      "Reward list (length = 12):\n",
      " [-100.0, 0.1666666716337204, -100.0, 1.1111111640930176, -0.5, 1.5, -100.0, -0.20000000298023224, 3.0, 1.3333333730697632, -100.0, -0.1428571492433548] \n",
      "\n"
     ]
    },
    {
     "name": "stderr",
     "output_type": "stream",
     "text": [
      "  0%|                                         | 8/20000 [00:00<36:25,  9.15it/s]"
     ]
    },
    {
     "name": "stdout",
     "output_type": "stream",
     "text": [
      "Epsiode count: 8\n",
      "Epsiode goal: [52]\n",
      "Epsiode state sequence length = 13.\n",
      " [[58], [58], [49], [51], [58], [57], [55], [48], [58], [56], [58], [57], [58]]\n",
      "Reward list (length = 12):\n",
      " [-100.0, 0.6666666865348816, 1.5, 0.1428571492433548, 6.0, 2.5, 0.4285714328289032, 0.4000000059604645, 3.0, -2.0, 6.0, -5.0] \n",
      "\n",
      "Epsiode count: 9\n",
      "Epsiode goal: [54]\n",
      "Epsiode state sequence length = 13.\n",
      " [[49], [51], [58], [56], [58], [56], [56], [58], [56], [60], [53], [52], [52]]\n",
      "Reward list (length = 12):\n",
      " [2.5, 0.4285714328289032, 2.0, -1.0, 2.0, -100.0, -1.0, 2.0, -0.5, 0.8571428656578064, -1.0, -100.0] \n",
      "\n"
     ]
    },
    {
     "name": "stderr",
     "output_type": "stream",
     "text": [
      "  0%|                                        | 13/20000 [00:01<29:27, 11.31it/s]"
     ]
    },
    {
     "name": "stdout",
     "output_type": "stream",
     "text": [
      "Epsiode count: 10\n",
      "Epsiode goal: [56]\n",
      "Epsiode state sequence length = 2.\n",
      " [[52], [56]]\n",
      "Reward list (length = 1):\n",
      " [7.0] \n",
      "\n",
      "Epsiode count: 11\n",
      "Epsiode goal: [50]\n",
      "Epsiode state sequence length = 5.\n",
      " [[53], [48], [58], [48], [50]]\n",
      "Reward list (length = 4):\n",
      " [0.6000000238418579, 0.20000000298023224, 0.800000011920929, 7.0] \n",
      "\n",
      "Epsiode count: 12\n",
      "Epsiode goal: [52]\n",
      "Epsiode state sequence length = 3.\n",
      " [[60], [53], [52]]\n",
      "Reward list (length = 2):\n",
      " [1.1428571939468384, 7.0] \n",
      "\n",
      "Epsiode count: 13\n",
      "Epsiode goal: [52]\n",
      "Epsiode state sequence length = 13.\n",
      " [[56], [58], [60], [58], [57], [56], [55], [58], [57], [56], [57], [58], [58]]\n",
      "Reward list (length = 12):\n",
      " [-2.0, -3.0, 4.0, 6.0, 5.0, 4.0, -1.0, 6.0, 5.0, -4.0, -5.0, -100.0] \n",
      "\n"
     ]
    },
    {
     "name": "stderr",
     "output_type": "stream",
     "text": [
      "  0%|                                        | 15/20000 [00:01<37:19,  8.92it/s]"
     ]
    },
    {
     "name": "stdout",
     "output_type": "stream",
     "text": [
      "Epsiode count: 14\n",
      "Epsiode goal: [52]\n",
      "Epsiode state sequence length = 13.\n",
      " [[51], [57], [57], [58], [57], [56], [58], [56], [57], [59], [58], [57], [57]]\n",
      "Reward list (length = 12):\n",
      " [0.1666666716337204, -100.0, -5.0, 6.0, 5.0, -2.0, 3.0, -4.0, -2.5, 7.0, 6.0, -100.0] \n",
      "\n",
      "Epsiode count: 15\n",
      "Epsiode goal: [56]\n",
      "Epsiode state sequence length = 13.\n",
      " [[52], [60], [48], [48], [58], [48], [57], [57], [58], [60], [53], [60], [57]]\n",
      "Reward list (length = 12):\n",
      " [0.5, 0.3333333432674408, -100.0, 0.800000011920929, 0.20000000298023224, 0.8888888955116272, -100.0, -1.0, -1.0, 0.5714285969734192, 0.4285714328289032, 1.3333333730697632] \n",
      "\n"
     ]
    },
    {
     "name": "stderr",
     "output_type": "stream",
     "text": [
      "  0%|                                        | 17/20000 [00:01<37:58,  8.77it/s]"
     ]
    },
    {
     "name": "stdout",
     "output_type": "stream",
     "text": [
      "Epsiode count: 16\n",
      "Epsiode goal: [55]\n",
      "Epsiode state sequence length = 5.\n",
      " [[56], [56], [59], [59], [55]]\n",
      "Reward list (length = 4):\n",
      " [-100.0, -0.3333333432674408, -100.0, 7.0] \n",
      "\n",
      "Epsiode count: 17\n",
      "Epsiode goal: [53]\n",
      "Epsiode state sequence length = 3.\n",
      " [[48], [58], [53]]\n",
      "Reward list (length = 2):\n",
      " [0.5, 7.0] \n",
      "\n",
      "Epsiode count: 18\n",
      "Epsiode goal: [58]\n",
      "Epsiode state sequence length = 1.\n",
      " [[58]]\n",
      "Reward list (length = 0):\n",
      " [] \n",
      "\n",
      "Epsiode count: 19\n",
      "Epsiode goal: [51]\n",
      "Epsiode state sequence length = 4.\n",
      " [[60], [53], [52], [51]]\n",
      "Reward list (length = 3):\n",
      " [1.2857142686843872, 2.0, 7.0] \n",
      "\n",
      "Epsiode count: 20\n",
      "Epsiode goal: [50]\n",
      "Epsiode state sequence length = 13.\n",
      " [[54], [56], [52], [55], [55], [58], [60], [60], [52], [48], [48], [48], [50]]\n",
      "Reward list (length = 12):\n",
      " [-2.0, 1.5, -0.6666666865348816, -100.0, -1.6666666269302368, -4.0, -100.0, 1.25, 0.5, -100.0, -100.0, 7.0] \n",
      "\n"
     ]
    },
    {
     "name": "stderr",
     "output_type": "stream",
     "text": [
      "  0%|                                        | 21/20000 [00:02<30:07, 11.05it/s]"
     ]
    },
    {
     "name": "stdout",
     "output_type": "stream",
     "text": [
      "Epsiode count: 21\n",
      "Epsiode goal: [57]\n",
      "Epsiode state sequence length = 5.\n",
      " [[52], [56], [55], [58], [57]]\n",
      "Reward list (length = 4):\n",
      " [1.25, -1.0, 0.6666666865348816, 7.0] \n",
      "\n",
      "Epsiode count: 22\n",
      "Epsiode goal: [60]\n",
      "Epsiode state sequence length = 11.\n",
      " [[57], [58], [57], [52], [52], [58], [48], [58], [56], [48], [60]]\n",
      "Reward list (length = 10):\n",
      " [3.0, -2.0, -0.6000000238418579, -100.0, 1.3333333730697632, -0.20000000298023224, 1.2000000476837158, -1.0, -0.5, 7.0] \n",
      "\n"
     ]
    },
    {
     "name": "stderr",
     "output_type": "stream",
     "text": [
      "  0%|                                        | 23/20000 [00:02<31:15, 10.65it/s]"
     ]
    },
    {
     "name": "stdout",
     "output_type": "stream",
     "text": [
      "Epsiode count: 23\n",
      "Epsiode goal: [55]\n",
      "Epsiode state sequence length = 9.\n",
      " [[56], [50], [48], [56], [57], [56], [58], [57], [55]]\n",
      "Reward list (length = 8):\n",
      " [0.1666666716337204, -2.5, 0.875, -1.0, 2.0, -0.5, 3.0, 7.0] \n",
      "\n",
      "Epsiode count: 24\n",
      "Epsiode goal: [53]\n",
      "Epsiode state sequence length = 8.\n",
      " [[52], [51], [56], [49], [48], [48], [55], [53]]\n",
      "Reward list (length = 7):\n",
      " [-1.0, 0.4000000059604645, 0.4285714328289032, -4.0, -100.0, 0.7142857313156128, 7.0] \n",
      "\n"
     ]
    },
    {
     "name": "stderr",
     "output_type": "stream",
     "text": [
      "  0%|                                        | 25/20000 [00:02<32:21, 10.29it/s]"
     ]
    },
    {
     "name": "stdout",
     "output_type": "stream",
     "text": [
      "Epsiode count: 25\n",
      "Epsiode goal: [60]\n",
      "Epsiode state sequence length = 13.\n",
      " [[50], [56], [58], [48], [57], [58], [56], [58], [56], [58], [56], [59], [49]]\n",
      "Reward list (length = 12):\n",
      " [1.6666666269302368, 2.0, -0.20000000298023224, 1.3333333730697632, 3.0, -1.0, 2.0, -1.0, 2.0, -1.0, 1.3333333730697632, -0.10000000149011612] \n",
      "\n",
      "Epsiode count: 26\n",
      "Epsiode goal: [50]\n",
      "Epsiode state sequence length = 13.\n",
      " [[51], [56], [55], [58], [49], [54], [56], [60], [53], [52], [53], [54], [56]]\n",
      "Reward list (length = 12):\n",
      " [-0.20000000298023224, 6.0, -1.6666666269302368, 0.8888888955116272, 0.20000000298023224, -2.0, -1.5, 1.4285714626312256, 3.0, -2.0, -3.0, -2.0] \n",
      "\n"
     ]
    },
    {
     "name": "stderr",
     "output_type": "stream",
     "text": [
      "  0%|                                        | 28/20000 [00:03<41:59,  7.93it/s]"
     ]
    },
    {
     "name": "stdout",
     "output_type": "stream",
     "text": [
      "Epsiode count: 27\n",
      "Epsiode goal: [57]\n",
      "Epsiode state sequence length = 13.\n",
      " [[53], [53], [58], [56], [58], [52], [51], [55], [53], [52], [59], [55], [60]]\n",
      "Reward list (length = 12):\n",
      " [-100.0, 0.800000011920929, 0.5, 0.5, 0.1666666716337204, -5.0, 1.5, -1.0, -4.0, 0.7142857313156128, 0.5, 0.4000000059604645] \n",
      "\n",
      "Epsiode count: 28\n",
      "Epsiode goal: [49]\n"
     ]
    },
    {
     "name": "stderr",
     "output_type": "stream",
     "text": [
      "  0%|                                        | 29/20000 [00:03<45:30,  7.31it/s]"
     ]
    },
    {
     "name": "stdout",
     "output_type": "stream",
     "text": [
      "Epsiode state sequence length = 13.\n",
      " [[50], [60], [55], [56], [48], [58], [56], [58], [58], [56], [53], [51], [58]]\n",
      "Reward list (length = 12):\n",
      " [-0.10000000149011612, 2.200000047683716, -6.0, 0.875, 0.10000000149011612, 4.5, -3.5, -100.0, 4.5, 2.3333332538604736, 2.0, -0.2857142984867096] \n",
      "\n",
      "Epsiode count: 29\n",
      "Epsiode goal: [53]\n",
      "Epsiode state sequence length = 13.\n",
      " [[51], [56], [55], [56], [48], [56], [48], [56], [60], [56], [55], [56], [58]]\n",
      "Reward list (length = 12):\n",
      " [0.4000000059604645, 3.0, -2.0, 0.375, 0.625, 0.375, 0.625, -0.75, 1.75, 3.0, -2.0, -1.5] \n",
      "\n"
     ]
    },
    {
     "name": "stderr",
     "output_type": "stream",
     "text": [
      "  0%|                                        | 32/20000 [00:03<41:59,  7.92it/s]"
     ]
    },
    {
     "name": "stdout",
     "output_type": "stream",
     "text": [
      "Epsiode count: 30\n",
      "Epsiode goal: [55]\n",
      "Epsiode state sequence length = 2.\n",
      " [[54], [55]]\n",
      "Reward list (length = 1):\n",
      " [7.0] \n",
      "\n",
      "Epsiode count: 31\n",
      "Epsiode goal: [48]\n",
      "Epsiode state sequence length = 13.\n",
      " [[58], [56], [55], [56], [55], [57], [51], [56], [57], [56], [55], [53], [52]]\n",
      "Reward list (length = 12):\n",
      " [5.0, 8.0, -7.0, 8.0, -3.5, 1.5, -0.6000000238418579, -8.0, 9.0, 8.0, 3.5, 5.0] \n",
      "\n",
      "Epsiode count: 32\n",
      "Epsiode goal: [60]\n"
     ]
    },
    {
     "name": "stderr",
     "output_type": "stream",
     "text": [
      "  0%|                                        | 34/20000 [00:03<34:04,  9.77it/s]"
     ]
    },
    {
     "name": "stdout",
     "output_type": "stream",
     "text": [
      "Epsiode state sequence length = 6.\n",
      " [[56], [56], [58], [57], [56], [60]]\n",
      "Reward list (length = 5):\n",
      " [-100.0, 2.0, -2.0, -3.0, 7.0] \n",
      "\n",
      "Epsiode count: 33\n",
      "Epsiode goal: [51]\n",
      "Epsiode state sequence length = 4.\n",
      " [[56], [60], [49], [51]]\n",
      "Reward list (length = 3):\n",
      " [-1.25, 0.8181818127632141, 7.0] \n",
      "\n",
      "Epsiode count: 34\n",
      "Epsiode goal: [56]\n",
      "Epsiode state sequence length = 6.\n",
      " [[49], [51], [58], [57], [58], [56]]\n",
      "Reward list (length = 5):\n",
      " [3.5, 0.7142857313156128, 2.0, -1.0, 7.0] \n",
      "\n",
      "Epsiode count: 35\n",
      "Epsiode goal: [59]\n",
      "Epsiode state sequence length = 1.\n",
      " [[59]]\n",
      "Reward list (length = 0):\n",
      " [] \n",
      "\n",
      "Epsiode count: 36\n",
      "Epsiode goal: [56]\n",
      "Epsiode state sequence length = 1.\n",
      " [[56]]\n",
      "Reward list (length = 0):\n",
      " [] \n",
      "\n",
      "Epsiode count: 37\n",
      "Epsiode goal: [57]\n",
      "Epsiode state sequence length = 7.\n",
      " [[56], [55], [53], [52], [53], [60], [57]]\n",
      "Reward list (length = 6):\n",
      " [-1.0, -1.0, -4.0, 5.0, 0.5714285969734192, 7.0] \n",
      "\n"
     ]
    },
    {
     "name": "stderr",
     "output_type": "stream",
     "text": [
      "  0%|                                        | 40/20000 [00:04<23:53, 13.93it/s]"
     ]
    },
    {
     "name": "stdout",
     "output_type": "stream",
     "text": [
      "Epsiode count: 38\n",
      "Epsiode goal: [50]\n",
      "Epsiode state sequence length = 2.\n",
      " [[52], [50]]\n",
      "Reward list (length = 1):\n",
      " [7.0] \n",
      "\n",
      "Epsiode count: 39\n",
      "Epsiode goal: [58]\n",
      "Epsiode state sequence length = 10.\n",
      " [[51], [54], [60], [60], [55], [51], [52], [51], [51], [58]]\n",
      "Reward list (length = 9):\n",
      " [2.3333332538604736, 0.6666666865348816, -100.0, 0.4000000059604645, -0.75, 7.0, -6.0, -100.0, 7.0] \n",
      "\n",
      "Epsiode count: 40\n",
      "Epsiode goal: [57]\n",
      "Epsiode state sequence length = 8.\n",
      " [[58], [53], [51], [56], [58], [60], [53], [57]]\n",
      "Reward list (length = 7):\n",
      " [0.20000000298023224, -2.0, 1.2000000476837158, 0.5, -0.5, 0.4285714328289032, 7.0] \n",
      "\n"
     ]
    },
    {
     "name": "stderr",
     "output_type": "stream",
     "text": [
      "  0%|                                        | 42/20000 [00:04<23:35, 14.10it/s]"
     ]
    },
    {
     "name": "stdout",
     "output_type": "stream",
     "text": [
      "Epsiode count: 41\n",
      "Epsiode goal: [53]\n",
      "Epsiode state sequence length = 3.\n",
      " [[49], [60], [53]]\n",
      "Reward list (length = 2):\n",
      " [0.3636363744735718, 7.0] \n",
      "\n",
      "Epsiode count: 42\n",
      "Epsiode goal: [60]\n",
      "Epsiode state sequence length = 13.\n",
      " [[52], [52], [55], [48], [58], [48], [54], [58], [59], [52], [56], [50], [49]]\n",
      "Reward list (length = 12):\n",
      " [-100.0, 2.6666667461395264, -0.7142857313156128, 1.2000000476837158, -0.20000000298023224, 2.0, 1.5, 2.0, -0.1428571492433548, 2.0, -0.6666666865348816, -10.0] \n",
      "\n"
     ]
    },
    {
     "name": "stderr",
     "output_type": "stream",
     "text": [
      "  0%|                                        | 47/20000 [00:04<22:05, 15.06it/s]"
     ]
    },
    {
     "name": "stdout",
     "output_type": "stream",
     "text": [
      "Epsiode count: 43\n",
      "Epsiode goal: [55]\n",
      "Epsiode state sequence length = 2.\n",
      " [[48], [55]]\n",
      "Reward list (length = 1):\n",
      " [7.0] \n",
      "\n",
      "Epsiode count: 44\n",
      "Epsiode goal: [53]\n",
      "Epsiode state sequence length = 1.\n",
      " [[53]]\n",
      "Reward list (length = 0):\n",
      " [] \n",
      "\n",
      "Epsiode count: 45\n",
      "Epsiode goal: [56]\n",
      "Epsiode state sequence length = 2.\n",
      " [[51], [56]]\n",
      "Reward list (length = 1):\n",
      " [7.0] \n",
      "\n",
      "Epsiode count: 46\n",
      "Epsiode goal: [48]\n",
      "Epsiode state sequence length = 10.\n",
      " [[60], [53], [51], [56], [55], [52], [56], [57], [56], [48]]\n",
      "Reward list (length = 9):\n",
      " [1.7142857313156128, 2.5, -0.6000000238418579, 8.0, 2.3333332538604736, -1.0, -8.0, 9.0, 7.0] \n",
      "\n",
      "Epsiode count: 47\n",
      "Epsiode goal: [56]\n",
      "Epsiode state sequence length = 2.\n",
      " [[57], [56]]\n",
      "Reward list (length = 1):\n",
      " [7.0] \n",
      "\n",
      "Epsiode count: 48\n",
      "Epsiode goal: [48]\n"
     ]
    },
    {
     "name": "stderr",
     "output_type": "stream",
     "text": [
      "  0%|                                        | 49/20000 [00:04<24:46, 13.42it/s]"
     ]
    },
    {
     "name": "stdout",
     "output_type": "stream",
     "text": [
      "Epsiode state sequence length = 13.\n",
      " [[53], [52], [58], [57], [51], [56], [55], [53], [52], [56], [60], [57], [55]]\n",
      "Reward list (length = 12):\n",
      " [5.0, -0.6666666865348816, 10.0, 1.5, -0.6000000238418579, 8.0, 3.5, 5.0, -1.0, -2.0, 4.0, 4.5] \n",
      "\n",
      "Epsiode count: 49\n",
      "Epsiode goal: [54]\n",
      "Epsiode state sequence length = 13.\n",
      " [[53], [51], [55], [56], [55], [52], [48], [58], [56], [51], [58], [51], [52]]\n",
      "Reward list (length = 12):\n",
      " [-0.5, 0.75, -1.0, 2.0, 0.3333333432674408, -0.5, 0.6000000238418579, 2.0, 0.4000000059604645, 0.4285714328289032, 0.5714285969734192, 3.0] \n",
      "\n"
     ]
    },
    {
     "name": "stderr",
     "output_type": "stream",
     "text": [
      "  0%|                                        | 51/20000 [00:05<33:49,  9.83it/s]"
     ]
    },
    {
     "name": "stdout",
     "output_type": "stream",
     "text": [
      "Epsiode count: 50\n",
      "Epsiode goal: [54]\n",
      "Epsiode state sequence length = 13.\n",
      " [[58], [56], [55], [56], [58], [48], [49], [48], [51], [56], [56], [49], [51]]\n",
      "Reward list (length = 12):\n",
      " [2.0, 2.0, -1.0, -1.0, 0.4000000059604645, 6.0, -5.0, 2.0, 0.6000000238418579, -100.0, 0.2857142984867096, 2.5] \n",
      "\n",
      "Epsiode count: 51\n",
      "Epsiode goal: [57]\n",
      "Epsiode state sequence length = 13.\n",
      " [[53], [51], [55], [56], [55], [53], [60], [53], [51], [56], [58], [60], [53]]\n",
      "Reward list (length = 12):\n",
      " [-2.0, 1.5, 2.0, -1.0, -1.0, 0.5714285969734192, 0.4285714328289032, -2.0, 1.2000000476837158, 0.5, -0.5, 0.4285714328289032] \n",
      "\n"
     ]
    },
    {
     "name": "stderr",
     "output_type": "stream",
     "text": [
      "  0%|                                        | 53/20000 [00:05<40:20,  8.24it/s]"
     ]
    },
    {
     "name": "stdout",
     "output_type": "stream",
     "text": [
      "Epsiode count: 52\n",
      "Epsiode goal: [58]\n",
      "Epsiode state sequence length = 13.\n",
      " [[49], [60], [54], [51], [51], [56], [54], [54], [54], [51], [54], [53], [60]]\n",
      "Reward list (length = 12):\n",
      " [0.8181818127632141, 0.3333333432674408, -1.3333333730697632, -100.0, 1.399999976158142, -1.0, -100.0, -100.0, -1.3333333730697632, 2.3333332538604736, -4.0, 0.7142857313156128] \n",
      "\n",
      "Epsiode count: 53\n",
      "Epsiode goal: [60]\n",
      "Epsiode state sequence length = 7.\n",
      " [[55], [48], [58], [59], [59], [59], [60]]\n",
      "Reward list (length = 6):\n",
      " [-0.7142857313156128, 1.2000000476837158, 2.0, -100.0, -100.0, 7.0] \n",
      "\n"
     ]
    },
    {
     "name": "stderr",
     "output_type": "stream",
     "text": [
      "  0%|                                        | 55/20000 [00:05<40:49,  8.14it/s]"
     ]
    },
    {
     "name": "stdout",
     "output_type": "stream",
     "text": [
      "Epsiode count: 54\n",
      "Epsiode goal: [58]\n",
      "Epsiode state sequence length = 13.\n",
      " [[54], [53], [54], [51], [55], [54], [59], [54], [55], [54], [51], [51], [60]]\n",
      "Reward list (length = 12):\n",
      " [-4.0, 5.0, -1.3333333730697632, 1.75, -3.0, 0.800000011920929, 0.20000000298023224, 4.0, -3.0, -1.3333333730697632, -100.0, 0.7777777910232544] \n",
      "\n",
      "Epsiode count: 55\n",
      "Epsiode goal: [58]\n",
      "Epsiode state sequence length = 13.\n",
      " [[49], [54], [55], [51], [56], [55], [50], [56], [54], [56], [54], [56], [55]]\n",
      "Reward list (length = 12):\n",
      " [1.7999999523162842, 4.0, -0.75, 1.399999976158142, -2.0, -0.6000000238418579, 1.3333333730697632, -1.0, 2.0, -1.0, 2.0, -2.0] \n",
      "\n"
     ]
    },
    {
     "name": "stderr",
     "output_type": "stream",
     "text": [
      "  0%|                                        | 57/20000 [00:05<46:04,  7.22it/s]"
     ]
    },
    {
     "name": "stdout",
     "output_type": "stream",
     "text": [
      "Epsiode count: 56\n",
      "Epsiode goal: [60]\n",
      "Epsiode state sequence length = 13.\n",
      " [[49], [52], [58], [55], [55], [58], [53], [56], [49], [58], [48], [58], [56]]\n",
      "Reward list (length = 12):\n",
      " [3.6666667461395264, 1.3333333730697632, -0.6666666865348816, -100.0, 1.6666666269302368, -0.4000000059604645, 2.3333332538604736, -0.5714285969734192, 1.2222222089767456, -0.20000000298023224, 1.2000000476837158, -1.0] \n",
      "\n",
      "Epsiode count: 57\n",
      "Epsiode goal: [55]\n",
      "Epsiode state sequence length = 2.\n",
      " [[51], [55]]\n",
      "Reward list (length = 1):\n",
      " [7.0] \n",
      "\n",
      "Epsiode count: 58\n",
      "Epsiode goal: [50]\n"
     ]
    },
    {
     "name": "stderr",
     "output_type": "stream",
     "text": [
      "  0%|                                        | 59/20000 [00:06<40:28,  8.21it/s]"
     ]
    },
    {
     "name": "stdout",
     "output_type": "stream",
     "text": [
      "Epsiode state sequence length = 13.\n",
      " [[48], [55], [48], [53], [52], [53], [54], [56], [58], [52], [56], [55], [56]]\n",
      "Reward list (length = 12):\n",
      " [0.2857142984867096, 0.7142857313156128, 0.4000000059604645, 3.0, -2.0, -3.0, -2.0, -3.0, 1.3333333730697632, -0.5, 6.0, -5.0] \n",
      "\n",
      "Epsiode count: 59\n",
      "Epsiode goal: [60]\n",
      "Epsiode state sequence length = 13.\n",
      " [[57], [53], [52], [58], [56], [55], [58], [54], [58], [54], [51], [58], [58]]\n",
      "Reward list (length = 12):\n",
      " [-0.75, -7.0, 1.3333333730697632, -1.0, -4.0, 1.6666666269302368, -0.5, 1.5, -0.5, -2.0, 1.2857142686843872, -100.0] \n",
      "\n"
     ]
    },
    {
     "name": "stderr",
     "output_type": "stream",
     "text": [
      "  0%|                                        | 60/20000 [00:06<43:47,  7.59it/s]"
     ]
    },
    {
     "name": "stdout",
     "output_type": "stream",
     "text": [
      "Epsiode count: 60\n",
      "Epsiode goal: [55]\n",
      "Epsiode state sequence length = 2.\n",
      " [[54], [55]]\n",
      "Reward list (length = 1):\n",
      " [7.0] \n",
      "\n",
      "Epsiode count: 61\n",
      "Epsiode goal: [55]\n",
      "Epsiode state sequence length = 4.\n",
      " [[49], [51], [56], [55]]\n",
      "Reward list (length = 3):\n",
      " [3.0, 0.800000011920929, 7.0] \n",
      "\n",
      "Epsiode count: 62\n",
      "Epsiode goal: [48]\n",
      "Epsiode state sequence length = 13.\n",
      " [[59], [55], [55], [52], [56], [60], [58], [53], [52], [51], [55], [56], [55]]\n",
      "Reward list (length = 12):\n",
      " [2.75, -100.0, 2.3333332538604736, -1.0, -2.0, 6.0, 2.0, 5.0, 4.0, -0.75, -7.0, 8.0] \n",
      "\n"
     ]
    },
    {
     "name": "stderr",
     "output_type": "stream",
     "text": [
      "  0%|▏                                       | 64/20000 [00:06<38:46,  8.57it/s]"
     ]
    },
    {
     "name": "stdout",
     "output_type": "stream",
     "text": [
      "Epsiode count: 63\n",
      "Epsiode goal: [50]\n",
      "Epsiode state sequence length = 13.\n",
      " [[59], [52], [54], [56], [60], [53], [52], [56], [58], [56], [48], [49], [52]]\n",
      "Reward list (length = 12):\n",
      " [1.2857142686843872, -1.0, -2.0, -1.5, 1.4285714626312256, 3.0, -0.5, -3.0, 4.0, 0.75, 2.0, 0.3333333432674408] \n",
      "\n",
      "Epsiode count: 64\n",
      "Epsiode goal: [55]\n",
      "Epsiode state sequence length = 5.\n",
      " [[56], [56], [51], [56], [55]]\n",
      "Reward list (length = 4):\n",
      " [-100.0, 0.20000000298023224, 0.800000011920929, 7.0] \n",
      "\n"
     ]
    },
    {
     "name": "stderr",
     "output_type": "stream",
     "text": [
      "  0%|▏                                       | 66/20000 [00:06<37:58,  8.75it/s]"
     ]
    },
    {
     "name": "stdout",
     "output_type": "stream",
     "text": [
      "Epsiode count: 65\n",
      "Epsiode goal: [54]\n",
      "Epsiode state sequence length = 13.\n",
      " [[52], [58], [56], [58], [56], [58], [56], [49], [52], [58], [56], [58], [56]]\n",
      "Reward list (length = 12):\n",
      " [0.3333333432674408, 2.0, -1.0, 2.0, -1.0, 2.0, 0.2857142984867096, 1.6666666269302368, 0.3333333432674408, 2.0, -1.0, 2.0] \n",
      "\n",
      "Epsiode count: 66\n",
      "Epsiode goal: [55]\n",
      "Epsiode state sequence length = 3.\n",
      " [[49], [54], [55]]\n",
      "Reward list (length = 2):\n",
      " [1.2000000476837158, 7.0] \n",
      "\n",
      "Epsiode count: 67\n",
      "Epsiode goal: [53]\n",
      "Epsiode state sequence length = 4.\n",
      " [[49], [50], [50], [53]]\n",
      "Reward list (length = 3):\n",
      " [4.0, -100.0, 7.0] \n",
      "\n",
      "Epsiode count: 68\n",
      "Epsiode goal: [59]\n",
      "Epsiode state sequence length = 13.\n",
      " [[55], [53], [52], [52], [52], [60], [53], [52], [51], [56], [48], [58], [53]]\n",
      "Reward list (length = 12):\n",
      " [-2.0, -6.0, -100.0, -100.0, 0.875, 0.1428571492433548, -6.0, -7.0, 1.600000023841858, -0.375, 1.100000023841858, -0.20000000298023224] \n",
      "\n"
     ]
    },
    {
     "name": "stderr",
     "output_type": "stream",
     "text": [
      "  0%|▏                                       | 70/20000 [00:07<36:50,  9.02it/s]"
     ]
    },
    {
     "name": "stdout",
     "output_type": "stream",
     "text": [
      "Epsiode count: 69\n",
      "Epsiode goal: [52]\n",
      "Epsiode state sequence length = 13.\n",
      " [[50], [56], [60], [55], [56], [53], [57], [58], [60], [58], [56], [58], [57]]\n",
      "Reward list (length = 12):\n",
      " [0.3333333432674408, -1.0, 1.600000023841858, -3.0, 1.3333333730697632, -0.25, -5.0, -3.0, 4.0, 3.0, -2.0, 6.0] \n",
      "\n",
      "Epsiode count: 70\n",
      "Epsiode goal: [58]\n",
      "Epsiode state sequence length = 7.\n",
      " [[59], [54], [56], [54], [56], [54], [58]]\n",
      "Reward list (length = 6):\n",
      " [0.20000000298023224, 2.0, -1.0, 2.0, -1.0, 7.0] \n",
      "\n"
     ]
    },
    {
     "name": "stderr",
     "output_type": "stream",
     "text": [
      "  0%|▏                                       | 72/20000 [00:07<38:23,  8.65it/s]"
     ]
    },
    {
     "name": "stdout",
     "output_type": "stream",
     "text": [
      "Epsiode count: 71\n",
      "Epsiode goal: [60]\n",
      "Epsiode state sequence length = 13.\n",
      " [[56], [59], [52], [50], [48], [58], [51], [55], [48], [58], [59], [54], [58]]\n",
      "Reward list (length = 12):\n",
      " [1.3333333730697632, -0.1428571492433548, -4.0, -5.0, 1.2000000476837158, -0.2857142984867096, 2.25, -0.7142857313156128, 1.2000000476837158, 2.0, -0.20000000298023224, 1.5] \n",
      "\n",
      "Epsiode count: 72\n",
      "Epsiode goal: [60]\n",
      "Epsiode state sequence length = 12.\n",
      " [[50], [51], [55], [49], [51], [56], [52], [55], [53], [51], [52], [60]]\n",
      "Reward list (length = 11):\n",
      " [10.0, 2.25, -0.8333333134651184, 5.5, 1.7999999523162842, -1.0, 2.6666667461395264, -2.5, -3.5, 9.0, 7.0] \n",
      "\n"
     ]
    },
    {
     "name": "stderr",
     "output_type": "stream",
     "text": [
      "  0%|▏                                       | 74/20000 [00:07<44:09,  7.52it/s]"
     ]
    },
    {
     "name": "stdout",
     "output_type": "stream",
     "text": [
      "Epsiode count: 73\n",
      "Epsiode goal: [59]\n",
      "Epsiode state sequence length = 13.\n",
      " [[56], [49], [51], [57], [49], [55], [58], [60], [52], [60], [49], [52], [55]]\n",
      "Reward list (length = 12):\n",
      " [-0.4285714328289032, 5.0, 1.3333333730697632, -0.25, 1.6666666269302368, 1.3333333730697632, 0.5, 0.125, 0.875, 0.09090909361839294, 3.3333332538604736, 2.3333332538604736] \n",
      "\n",
      "Epsiode count: 74\n",
      "Epsiode goal: [54]\n",
      "Epsiode state sequence length = 13.\n",
      " [[60], [58], [56], [58], [58], [51], [51], [58], [48], [53], [48], [58], [56]]\n",
      "Reward list (length = 12):\n",
      " [3.0, 2.0, -1.0, -100.0, 0.5714285969734192, -100.0, 0.4285714328289032, 0.4000000059604645, 1.2000000476837158, -0.20000000298023224, 0.6000000238418579, 2.0] \n",
      "\n"
     ]
    },
    {
     "name": "stderr",
     "output_type": "stream",
     "text": [
      "  0%|▏                                       | 76/20000 [00:08<49:27,  6.71it/s]"
     ]
    },
    {
     "name": "stdout",
     "output_type": "stream",
     "text": [
      "Epsiode count: 75\n",
      "Epsiode goal: [48]\n",
      "Epsiode state sequence length = 13.\n",
      " [[52], [53], [52], [55], [56], [53], [51], [52], [55], [60], [56], [60], [55]]\n",
      "Reward list (length = 12):\n",
      " [-4.0, 5.0, -1.3333333730697632, -7.0, 2.6666667461395264, 2.5, -3.0, -1.3333333730697632, -1.399999976158142, 3.0, -2.0, 2.4000000953674316] \n",
      "\n",
      "Epsiode count: 76\n",
      "Epsiode goal: [48]\n",
      "Epsiode state sequence length = 2.\n",
      " [[56], [48]]\n",
      "Reward list (length = 1):\n",
      " [7.0] \n",
      "\n",
      "Epsiode count: 77\n",
      "Epsiode goal: [58]\n"
     ]
    },
    {
     "name": "stderr",
     "output_type": "stream",
     "text": [
      "  0%|▏                                       | 78/20000 [00:08<42:23,  7.83it/s]"
     ]
    },
    {
     "name": "stdout",
     "output_type": "stream",
     "text": [
      "Epsiode state sequence length = 13.\n",
      " [[50], [49], [50], [48], [50], [54], [51], [53], [60], [53], [54], [60], [52]]\n",
      "Reward list (length = 12):\n",
      " [-8.0, 9.0, -4.0, 5.0, 2.0, -1.3333333730697632, 3.5, 0.7142857313156128, 0.2857142984867096, 5.0, 0.6666666865348816, 0.25] \n",
      "\n",
      "Epsiode count: 78\n",
      "Epsiode goal: [49]\n",
      "Epsiode state sequence length = 13.\n",
      " [[56], [55], [56], [58], [55], [58], [53], [53], [58], [56], [58], [56], [49]]\n",
      "Reward list (length = 12):\n",
      " [7.0, -6.0, -3.5, 3.0, -2.0, 1.7999999523162842, -100.0, -0.800000011920929, 4.5, -3.5, 4.5, 7.0] \n",
      "\n"
     ]
    },
    {
     "name": "stderr",
     "output_type": "stream",
     "text": [
      "  0%|▏                                       | 79/20000 [00:08<46:12,  7.18it/s]"
     ]
    },
    {
     "name": "stdout",
     "output_type": "stream",
     "text": [
      "Epsiode count: 79\n",
      "Epsiode goal: [58]\n",
      "Epsiode state sequence length = 6.\n",
      " [[54], [53], [59], [54], [56], [58]]\n",
      "Reward list (length = 5):\n",
      " [-4.0, 0.8333333134651184, 0.20000000298023224, 2.0, 7.0] \n",
      "\n",
      "Epsiode count: 80\n",
      "Epsiode goal: [60]\n",
      "Epsiode state sequence length = 13.\n",
      " [[58], [57], [58], [57], [59], [48], [57], [58], [56], [57], [53], [52], [59]]\n",
      "Reward list (length = 12):\n",
      " [-2.0, 3.0, -2.0, 1.5, -0.09090909361839294, 1.3333333730697632, 3.0, -1.0, 4.0, -0.75, -7.0, 1.1428571939468384] \n",
      "\n"
     ]
    },
    {
     "name": "stderr",
     "output_type": "stream",
     "text": [
      "  0%|▏                                       | 83/20000 [00:09<38:52,  8.54it/s]"
     ]
    },
    {
     "name": "stdout",
     "output_type": "stream",
     "text": [
      "Epsiode count: 81\n",
      "Epsiode goal: [57]\n",
      "Epsiode state sequence length = 2.\n",
      " [[53], [57]]\n",
      "Reward list (length = 1):\n",
      " [7.0] \n",
      "\n",
      "Epsiode count: 82\n",
      "Epsiode goal: [60]\n",
      "Epsiode state sequence length = 13.\n",
      " [[51], [59], [49], [51], [58], [48], [57], [59], [52], [54], [48], [54], [56]]\n",
      "Reward list (length = 12):\n",
      " [1.125, -0.10000000149011612, 5.5, 1.2857142686843872, -0.20000000298023224, 1.3333333730697632, 1.5, -0.1428571492433548, 4.0, -1.0, 2.0, 3.0] \n",
      "\n",
      "Epsiode count: 83\n",
      "Epsiode goal: [60]\n",
      "Epsiode state sequence length = 9.\n",
      " [[59], [54], [58], [57], [48], [58], [56], [52], [60]]\n",
      "Reward list (length = 8):\n",
      " [-0.20000000298023224, 1.5, -2.0, -0.3333333432674408, 1.2000000476837158, -1.0, -1.0, 7.0] \n",
      "\n"
     ]
    },
    {
     "name": "stderr",
     "output_type": "stream",
     "text": [
      "  0%|▏                                       | 85/20000 [00:09<40:49,  8.13it/s]"
     ]
    },
    {
     "name": "stdout",
     "output_type": "stream",
     "text": [
      "Epsiode count: 84\n",
      "Epsiode goal: [52]\n",
      "Epsiode state sequence length = 11.\n",
      " [[49], [54], [57], [58], [56], [56], [60], [58], [60], [49], [52]]\n",
      "Reward list (length = 10):\n",
      " [0.6000000238418579, -0.6666666865348816, -5.0, 3.0, -100.0, -1.0, 4.0, -3.0, 0.7272727489471436, 7.0] \n",
      "\n",
      "Epsiode count: 85\n",
      "Epsiode goal: [59]\n",
      "Epsiode state sequence length = 13.\n",
      " [[60], [60], [60], [52], [60], [53], [52], [53], [52], [53], [52], [60], [60]]\n",
      "Reward list (length = 12):\n",
      " [-100.0, -100.0, 0.125, 0.875, 0.1428571492433548, -6.0, 7.0, -6.0, 7.0, -6.0, 0.875, -100.0] \n",
      "\n"
     ]
    },
    {
     "name": "stderr",
     "output_type": "stream",
     "text": [
      "  0%|▏                                       | 87/20000 [00:09<48:03,  6.91it/s]"
     ]
    },
    {
     "name": "stdout",
     "output_type": "stream",
     "text": [
      "Epsiode count: 86\n",
      "Epsiode goal: [48]\n",
      "Epsiode state sequence length = 13.\n",
      " [[60], [55], [56], [57], [55], [55], [49], [51], [58], [56], [49], [51], [55]]\n",
      "Reward list (length = 12):\n",
      " [2.4000000953674316, -7.0, -8.0, 4.5, -100.0, 1.1666666269302368, -0.5, -0.4285714328289032, 5.0, 1.1428571939468384, -0.5, -0.75] \n",
      "\n",
      "Epsiode count: 87\n",
      "Epsiode goal: [48]\n",
      "Epsiode state sequence length = 13.\n",
      " [[60], [53], [60], [57], [51], [55], [58], [56], [57], [57], [56], [60], [55]]\n",
      "Reward list (length = 12):\n",
      " [1.7142857313156128, -0.7142857313156128, 4.0, 1.5, -0.75, -2.3333332538604736, 5.0, -8.0, -100.0, 9.0, -2.0, 2.4000000953674316] \n",
      "\n"
     ]
    },
    {
     "name": "stderr",
     "output_type": "stream",
     "text": [
      "  0%|▏                                       | 89/20000 [00:10<52:37,  6.31it/s]"
     ]
    },
    {
     "name": "stdout",
     "output_type": "stream",
     "text": [
      "Epsiode count: 88\n",
      "Epsiode goal: [60]\n",
      "Epsiode state sequence length = 13.\n",
      " [[52], [59], [59], [52], [58], [56], [56], [58], [56], [48], [52], [48], [59]]\n",
      "Reward list (length = 12):\n",
      " [1.1428571939468384, -100.0, -0.1428571492433548, 1.3333333730697632, -1.0, -100.0, 2.0, -1.0, -0.5, 3.0, -2.0, 1.0909091234207153] \n",
      "\n",
      "Epsiode count: 89\n",
      "Epsiode goal: [57]\n"
     ]
    },
    {
     "name": "stderr",
     "output_type": "stream",
     "text": [
      "  0%|▏                                       | 90/20000 [00:10<54:48,  6.05it/s]"
     ]
    },
    {
     "name": "stdout",
     "output_type": "stream",
     "text": [
      "Epsiode state sequence length = 13.\n",
      " [[60], [49], [60], [52], [56], [60], [55], [56], [55], [53], [58], [56], [49]]\n",
      "Reward list (length = 12):\n",
      " [0.27272728085517883, 0.7272727489471436, 0.375, 1.25, 0.25, 0.6000000238418579, 2.0, -1.0, -1.0, 0.800000011920929, 0.5, -0.1428571492433548] \n",
      "\n",
      "Epsiode count: 90\n",
      "Epsiode goal: [57]\n",
      "Epsiode state sequence length = 13.\n",
      " [[56], [55], [48], [55], [56], [55], [53], [51], [48], [58], [56], [58], [53]]\n",
      "Reward list (length = 12):\n",
      " [-1.0, -0.2857142984867096, 1.2857142686843872, 2.0, -1.0, -1.0, -2.0, -2.0, 0.8999999761581421, 0.5, 0.5, 0.20000000298023224] \n",
      "\n"
     ]
    },
    {
     "name": "stderr",
     "output_type": "stream",
     "text": [
      "  0%|▏                                       | 92/20000 [00:10<55:01,  6.03it/s]"
     ]
    },
    {
     "name": "stdout",
     "output_type": "stream",
     "text": [
      "Epsiode count: 91\n",
      "Epsiode goal: [58]\n",
      "Epsiode state sequence length = 13.\n",
      " [[56], [51], [60], [53], [54], [56], [50], [50], [48], [52], [49], [51], [56]]\n",
      "Reward list (length = 12):\n",
      " [-0.4000000059604645, 0.7777777910232544, 0.2857142984867096, 5.0, 2.0, -0.3333333432674408, -100.0, -4.0, 2.5, -2.0, 4.5, 1.399999976158142] \n",
      "\n",
      "Epsiode count: 92\n",
      "Epsiode goal: [54]\n",
      "Epsiode state sequence length = 13.\n",
      " [[49], [51], [58], [56], [58], [56], [48], [55], [58], [57], [49], [58], [56]]\n",
      "Reward list (length = 12):\n",
      " [2.5, 0.4285714328289032, 2.0, -1.0, 2.0, 0.25, 0.8571428656578064, -0.3333333432674408, 4.0, 0.375, 0.5555555820465088, 2.0] \n",
      "\n"
     ]
    },
    {
     "name": "stderr",
     "output_type": "stream",
     "text": [
      "  0%|▏                                       | 94/20000 [00:10<57:53,  5.73it/s]"
     ]
    },
    {
     "name": "stdout",
     "output_type": "stream",
     "text": [
      "Epsiode count: 93\n",
      "Epsiode goal: [50]\n",
      "Epsiode state sequence length = 13.\n",
      " [[53], [48], [53], [52], [56], [60], [53], [52], [53], [51], [48], [57], [53]]\n",
      "Reward list (length = 12):\n",
      " [0.6000000238418579, 0.4000000059604645, 3.0, -0.5, -1.5, 1.4285714626312256, 3.0, -2.0, 1.5, 0.3333333432674408, 0.2222222238779068, 1.75] \n",
      "\n",
      "Epsiode count: 94\n",
      "Epsiode goal: [50]\n"
     ]
    },
    {
     "name": "stderr",
     "output_type": "stream",
     "text": [
      "  0%|▏                                       | 96/20000 [00:11<41:09,  8.06it/s]"
     ]
    },
    {
     "name": "stdout",
     "output_type": "stream",
     "text": [
      "Epsiode state sequence length = 7.\n",
      " [[56], [55], [53], [51], [56], [52], [50]]\n",
      "Reward list (length = 6):\n",
      " [6.0, 2.5, 1.5, -0.20000000298023224, 1.5, 7.0] \n",
      "\n",
      "Epsiode count: 95\n",
      "Epsiode goal: [55]\n",
      "Epsiode state sequence length = 3.\n",
      " [[53], [51], [55]]\n",
      "Reward list (length = 2):\n",
      " [-1.0, 7.0] \n",
      "\n",
      "Epsiode count: 96\n",
      "Epsiode goal: [51]\n",
      "Epsiode state sequence length = 1.\n",
      " [[51]]\n",
      "Reward list (length = 0):\n",
      " [] \n",
      "\n",
      "Epsiode count: 97\n",
      "Epsiode goal: [59]\n",
      "Epsiode state sequence length = 13.\n",
      " [[54], [48], [52], [52], [58], [48], [55], [50], [48], [58], [48], [53], [52]]\n",
      "Reward list (length = 12):\n",
      " [-0.8333333134651184, 2.75, -100.0, 1.1666666269302368, -0.10000000149011612, 1.5714285373687744, -0.800000011920929, -4.5, 1.100000023841858, -0.10000000149011612, 2.200000047683716, -6.0] \n",
      "\n"
     ]
    },
    {
     "name": "stderr",
     "output_type": "stream",
     "text": [
      "  0%|▏                                       | 99/20000 [00:11<40:30,  8.19it/s]"
     ]
    },
    {
     "name": "stdout",
     "output_type": "stream",
     "text": [
      "Epsiode count: 98\n",
      "Epsiode goal: [49]\n",
      "Epsiode state sequence length = 13.\n",
      " [[57], [58], [48], [52], [51], [56], [58], [48], [58], [48], [53], [51], [58]]\n",
      "Reward list (length = 12):\n",
      " [-8.0, 0.8999999761581421, 0.25, 3.0, -0.4000000059604645, -3.5, 0.8999999761581421, 0.10000000149011612, 0.8999999761581421, 0.20000000298023224, 2.0, -0.2857142984867096] \n",
      "\n",
      "Epsiode count: 99\n",
      "Epsiode goal: [57]\n",
      "Epsiode state sequence length = 4.\n",
      " [[54], [48], [58], [57]]\n",
      "Reward list (length = 3):\n",
      " [-0.5, 0.8999999761581421, 7.0] \n",
      "\n"
     ]
    },
    {
     "name": "stderr",
     "output_type": "stream",
     "text": [
      "  1%|▏                                      | 102/20000 [00:11<32:30, 10.20it/s]"
     ]
    },
    {
     "name": "stdout",
     "output_type": "stream",
     "text": [
      "Epsiode count: 100\n",
      "Epsiode goal: [55]\n",
      "Epsiode state sequence length = 2.\n",
      " [[54], [55]]\n",
      "Reward list (length = 1):\n",
      " [7.0] \n",
      "\n",
      "Epsiode count: 101\n",
      "Epsiode goal: [50]\n",
      "Epsiode state sequence length = 13.\n",
      " [[60], [53], [52], [55], [49], [51], [54], [53], [49], [51], [56], [48], [52]]\n",
      "Reward list (length = 12):\n",
      " [1.4285714626312256, 3.0, -0.6666666865348816, 0.8333333134651184, 0.5, -0.3333333432674408, 4.0, 0.75, 0.5, -0.20000000298023224, 0.75, 0.5] \n",
      "\n",
      "Epsiode count: 102\n",
      "Epsiode goal: [57]\n",
      "Epsiode state sequence length = 5.\n",
      " [[56], [59], [54], [53], [57]]\n",
      "Reward list (length = 4):\n",
      " [0.3333333432674408, 0.4000000059604645, -3.0, 7.0] \n",
      "\n"
     ]
    },
    {
     "name": "stderr",
     "output_type": "stream",
     "text": [
      "  1%|▏                                      | 107/20000 [00:11<22:30, 14.73it/s]"
     ]
    },
    {
     "name": "stdout",
     "output_type": "stream",
     "text": [
      "Epsiode count: 103\n",
      "Epsiode goal: [49]\n",
      "Epsiode state sequence length = 5.\n",
      " [[59], [55], [58], [56], [49]]\n",
      "Reward list (length = 4):\n",
      " [2.5, -2.0, 4.5, 7.0] \n",
      "\n",
      "Epsiode count: 104\n",
      "Epsiode goal: [56]\n",
      "Epsiode state sequence length = 1.\n",
      " [[56]]\n",
      "Reward list (length = 0):\n",
      " [] \n",
      "\n",
      "Epsiode count: 105\n",
      "Epsiode goal: [53]\n",
      "Epsiode state sequence length = 3.\n",
      " [[48], [56], [53]]\n",
      "Reward list (length = 2):\n",
      " [0.625, 7.0] \n",
      "\n",
      "Epsiode count: 106\n",
      "Epsiode goal: [50]\n",
      "Epsiode state sequence length = 8.\n",
      " [[56], [55], [49], [52], [54], [48], [52], [50]]\n",
      "Reward list (length = 7):\n",
      " [6.0, 0.8333333134651184, 0.3333333432674408, -1.0, 0.6666666865348816, 0.5, 7.0] \n",
      "\n",
      "Epsiode count: 107\n",
      "Epsiode goal: [54]\n",
      "Epsiode state sequence length = 7.\n",
      " [[51], [49], [52], [56], [48], [49], [54]]\n",
      "Reward list (length = 6):\n",
      " [-1.5, 1.6666666269302368, 0.5, 0.25, 6.0, 7.0] \n",
      "\n"
     ]
    },
    {
     "name": "stderr",
     "output_type": "stream",
     "text": [
      "  1%|▏                                      | 110/20000 [00:12<24:31, 13.52it/s]"
     ]
    },
    {
     "name": "stdout",
     "output_type": "stream",
     "text": [
      "Epsiode count: 108\n",
      "Epsiode goal: [57]\n",
      "Epsiode state sequence length = 1.\n",
      " [[57]]\n",
      "Reward list (length = 0):\n",
      " [] \n",
      "\n",
      "Epsiode count: 109\n",
      "Epsiode goal: [48]\n",
      "Epsiode state sequence length = 13.\n",
      " [[49], [50], [56], [53], [53], [51], [58], [56], [60], [53], [60], [55], [56]]\n",
      "Reward list (length = 12):\n",
      " [-1.0, -0.3333333432674408, 2.6666667461395264, -100.0, 2.5, -0.4285714328289032, 5.0, -2.0, 1.7142857313156128, -0.7142857313156128, 2.4000000953674316, -7.0] \n",
      "\n",
      "Epsiode count: 110\n",
      "Epsiode goal: [49]\n",
      "Epsiode state sequence length = 2.\n",
      " [[60], [49]]\n",
      "Reward list (length = 1):\n",
      " [7.0] \n",
      "\n",
      "Epsiode count: 111\n",
      "Epsiode goal: [57]\n"
     ]
    },
    {
     "name": "stderr",
     "output_type": "stream",
     "text": [
      "  1%|▏                                      | 112/20000 [00:12<26:20, 12.58it/s]"
     ]
    },
    {
     "name": "stdout",
     "output_type": "stream",
     "text": [
      "Epsiode state sequence length = 13.\n",
      " [[59], [52], [58], [56], [53], [52], [55], [53], [60], [52], [51], [58], [56]]\n",
      "Reward list (length = 12):\n",
      " [0.2857142984867096, 0.8333333134651184, 0.5, -0.3333333432674408, -4.0, 1.6666666269302368, -1.0, 0.5714285969734192, 0.375, -5.0, 0.8571428656578064, 0.5] \n",
      "\n",
      "Epsiode count: 112\n",
      "Epsiode goal: [56]\n",
      "Epsiode state sequence length = 5.\n",
      " [[50], [48], [57], [58], [56]]\n",
      "Reward list (length = 4):\n",
      " [-3.0, 0.8888888955116272, -1.0, 7.0] \n",
      "\n"
     ]
    },
    {
     "name": "stderr",
     "output_type": "stream",
     "text": [
      "  1%|▏                                      | 114/20000 [00:12<29:27, 11.25it/s]"
     ]
    },
    {
     "name": "stdout",
     "output_type": "stream",
     "text": [
      "Epsiode count: 113\n",
      "Epsiode goal: [57]\n",
      "Epsiode state sequence length = 13.\n",
      " [[59], [58], [56], [48], [58], [53], [58], [56], [55], [52], [55], [56], [55]]\n",
      "Reward list (length = 12):\n",
      " [2.0, 0.5, -0.125, 0.8999999761581421, 0.20000000298023224, 0.800000011920929, 0.5, -1.0, -0.6666666865348816, 1.6666666269302368, 2.0, -1.0] \n",
      "\n",
      "Epsiode count: 114\n",
      "Epsiode goal: [54]\n",
      "Epsiode state sequence length = 1.\n",
      " [[54]]\n",
      "Reward list (length = 0):\n",
      " [] \n",
      "\n",
      "Epsiode count: 115\n",
      "Epsiode goal: [54]\n",
      "Epsiode state sequence length = 12.\n",
      " [[52], [53], [60], [53], [51], [58], [56], [58], [53], [52], [58], [54]]\n",
      "Reward list (length = 11):\n",
      " [2.0, 0.1428571492433548, 0.8571428656578064, -0.5, 0.4285714328289032, 2.0, -1.0, 0.800000011920929, -1.0, 0.3333333432674408, 7.0] \n",
      "\n"
     ]
    },
    {
     "name": "stderr",
     "output_type": "stream",
     "text": [
      "  1%|▏                                      | 116/20000 [00:12<28:23, 11.67it/s]"
     ]
    },
    {
     "name": "stdout",
     "output_type": "stream",
     "text": [
      "Epsiode count: 116\n",
      "Epsiode goal: [51]\n",
      "Epsiode state sequence length = 2.\n",
      " [[56], [51]]\n",
      "Reward list (length = 1):\n",
      " [7.0] \n",
      "\n",
      "Epsiode count: 117\n",
      "Epsiode goal: [53]\n",
      "Epsiode state sequence length = 1.\n",
      " [[53]]\n",
      "Reward list (length = 0):\n",
      " [] \n",
      "\n",
      "Epsiode count: 118\n",
      "Epsiode goal: [56]\n",
      "Epsiode state sequence length = 3.\n",
      " [[59], [57], [56]]\n",
      "Reward list (length = 2):\n",
      " [1.5, 7.0] \n",
      "\n",
      "Epsiode count: 119\n",
      "Epsiode goal: [48]\n",
      "Epsiode state sequence length = 13.\n",
      " [[52], [56], [55], [58], [56], [49], [52], [58], [49], [60], [49], [52], [57]]\n",
      "Reward list (length = 12):\n",
      " [-1.0, 8.0, -2.3333332538604736, 5.0, 1.1428571939468384, -0.3333333432674408, -0.6666666865348816, 1.1111111640930176, -0.09090909361839294, 1.0909091234207153, -0.3333333432674408, -0.800000011920929] \n",
      "\n"
     ]
    },
    {
     "name": "stderr",
     "output_type": "stream",
     "text": [
      "  1%|▏                                      | 120/20000 [00:12<23:30, 14.09it/s]"
     ]
    },
    {
     "name": "stdout",
     "output_type": "stream",
     "text": [
      "Epsiode count: 120\n",
      "Epsiode goal: [52]\n",
      "Epsiode state sequence length = 13.\n",
      " [[59], [54], [56], [58], [56], [55], [56], [59], [54], [55], [58], [48], [54]]\n",
      "Reward list (length = 12):\n",
      " [1.399999976158142, -1.0, -2.0, 3.0, 4.0, -3.0, -1.3333333730697632, 1.399999976158142, -2.0, -1.0, 0.6000000238418579, 0.6666666865348816] \n",
      "\n",
      "Epsiode count: 121\n",
      "Epsiode goal: [60]\n"
     ]
    },
    {
     "name": "stderr",
     "output_type": "stream",
     "text": [
      "  1%|▏                                      | 122/20000 [00:13<32:47, 10.10it/s]"
     ]
    },
    {
     "name": "stdout",
     "output_type": "stream",
     "text": [
      "Epsiode state sequence length = 13.\n",
      " [[53], [52], [59], [48], [58], [53], [58], [56], [49], [58], [57], [53], [49]]\n",
      "Reward list (length = 12):\n",
      " [-7.0, 1.1428571939468384, -0.09090909361839294, 1.2000000476837158, -0.4000000059604645, 1.399999976158142, -1.0, -0.5714285969734192, 1.2222222089767456, -2.0, -0.75, -1.75] \n",
      "\n",
      "Epsiode count: 122\n",
      "Epsiode goal: [55]\n",
      "Epsiode state sequence length = 6.\n",
      " [[48], [57], [57], [56], [48], [55]]\n",
      "Reward list (length = 5):\n",
      " [0.7777777910232544, -100.0, 2.0, 0.125, 7.0] \n",
      "\n"
     ]
    },
    {
     "name": "stderr",
     "output_type": "stream",
     "text": [
      "  1%|▏                                      | 124/20000 [00:13<34:59,  9.47it/s]"
     ]
    },
    {
     "name": "stdout",
     "output_type": "stream",
     "text": [
      "Epsiode count: 123\n",
      "Epsiode goal: [50]\n",
      "Epsiode state sequence length = 13.\n",
      " [[60], [52], [51], [48], [48], [51], [56], [52], [49], [48], [49], [51], [52]]\n",
      "Reward list (length = 12):\n",
      " [1.25, 2.0, 0.3333333432674408, -100.0, 0.6666666865348816, -0.20000000298023224, 1.5, 0.6666666865348816, -1.0, 2.0, 0.5, -1.0] \n",
      "\n",
      "Epsiode count: 124\n",
      "Epsiode goal: [52]\n"
     ]
    },
    {
     "name": "stderr",
     "output_type": "stream",
     "text": [
      "  1%|▏                                      | 126/20000 [00:13<34:04,  9.72it/s]"
     ]
    },
    {
     "name": "stdout",
     "output_type": "stream",
     "text": [
      "Epsiode state sequence length = 13.\n",
      " [[54], [53], [60], [58], [57], [56], [60], [58], [56], [55], [56], [55], [52]]\n",
      "Reward list (length = 12):\n",
      " [2.0, -0.1428571492433548, 4.0, 6.0, 5.0, -1.0, 4.0, 3.0, 4.0, -3.0, 4.0, 7.0] \n",
      "\n",
      "Epsiode count: 125\n",
      "Epsiode goal: [56]\n",
      "Epsiode state sequence length = 2.\n",
      " [[60], [56]]\n",
      "Reward list (length = 1):\n",
      " [7.0] \n",
      "\n",
      "Epsiode count: 126\n",
      "Epsiode goal: [49]\n",
      "Epsiode state sequence length = 13.\n",
      " [[60], [55], [56], [55], [53], [51], [55], [52], [51], [56], [58], [55], [58]]\n",
      "Reward list (length = 12):\n",
      " [2.200000047683716, -6.0, 7.0, 3.0, 2.0, -0.5, 2.0, 3.0, -0.4000000059604645, -3.5, 3.0, -2.0] \n",
      "\n"
     ]
    },
    {
     "name": "stderr",
     "output_type": "stream",
     "text": [
      "  1%|▏                                      | 128/20000 [00:14<40:31,  8.17it/s]"
     ]
    },
    {
     "name": "stdout",
     "output_type": "stream",
     "text": [
      "Epsiode count: 127\n",
      "Epsiode goal: [48]\n",
      "Epsiode state sequence length = 13.\n",
      " [[58], [56], [55], [58], [56], [49], [60], [53], [51], [55], [56], [52], [56]]\n",
      "Reward list (length = 12):\n",
      " [5.0, 8.0, -2.3333332538604736, 5.0, 1.1428571939468384, -0.09090909361839294, 1.7142857313156128, 2.5, -0.75, -7.0, 2.0, -1.0] \n",
      "\n",
      "Epsiode count: 128\n",
      "Epsiode goal: [59]\n",
      "Epsiode state sequence length = 13.\n",
      " [[58], [48], [58], [56], [53], [58], [57], [51], [51], [52], [51], [51], [56]]\n",
      "Reward list (length = 12):\n",
      " [-0.10000000149011612, 1.100000023841858, -0.5, -1.0, 1.2000000476837158, -1.0, -0.3333333432674408, -100.0, 8.0, -7.0, -100.0, 1.600000023841858] \n",
      "\n"
     ]
    },
    {
     "name": "stderr",
     "output_type": "stream",
     "text": [
      "  1%|▎                                      | 130/20000 [00:14<42:23,  7.81it/s]"
     ]
    },
    {
     "name": "stdout",
     "output_type": "stream",
     "text": [
      "Epsiode count: 129\n",
      "Epsiode goal: [57]\n",
      "Epsiode state sequence length = 8.\n",
      " [[51], [58], [56], [55], [52], [60], [55], [57]]\n",
      "Reward list (length = 7):\n",
      " [0.8571428656578064, 0.5, -1.0, -0.6666666865348816, 0.625, 0.6000000238418579, 7.0] \n",
      "\n",
      "Epsiode count: 130\n",
      "Epsiode goal: [57]\n",
      "Epsiode state sequence length = 6.\n",
      " [[54], [55], [56], [55], [53], [57]]\n",
      "Reward list (length = 5):\n",
      " [3.0, 2.0, -1.0, -1.0, 7.0] \n",
      "\n",
      "Epsiode count: 131\n",
      "Epsiode goal: [56]\n",
      "Epsiode state sequence length = 3.\n",
      " [[59], [58], [56]]\n",
      "Reward list (length = 2):\n",
      " [3.0, 7.0] \n",
      "\n"
     ]
    },
    {
     "name": "stderr",
     "output_type": "stream",
     "text": [
      "  1%|▎                                      | 134/20000 [00:14<32:15, 10.27it/s]"
     ]
    },
    {
     "name": "stdout",
     "output_type": "stream",
     "text": [
      "Epsiode count: 132\n",
      "Epsiode goal: [59]\n",
      "Epsiode state sequence length = 13.\n",
      " [[51], [52], [58], [56], [60], [49], [51], [48], [53], [54], [48], [58], [60]]\n",
      "Reward list (length = 12):\n",
      " [8.0, 1.1666666269302368, -0.5, 0.75, 0.09090909361839294, 5.0, -2.6666667461395264, 2.200000047683716, 6.0, -0.8333333134651184, 1.100000023841858, 0.5] \n",
      "\n",
      "Epsiode count: 133\n",
      "Epsiode goal: [54]\n",
      "Epsiode state sequence length = 1.\n",
      " [[54]]\n",
      "Reward list (length = 0):\n",
      " [] \n",
      "\n",
      "Epsiode count: 134\n",
      "Epsiode goal: [55]\n",
      "Epsiode state sequence length = 3.\n",
      " [[49], [51], [55]]\n",
      "Reward list (length = 2):\n",
      " [3.0, 7.0] \n",
      "\n"
     ]
    },
    {
     "name": "stderr",
     "output_type": "stream",
     "text": [
      "  1%|▎                                      | 136/20000 [00:14<33:31,  9.87it/s]"
     ]
    },
    {
     "name": "stdout",
     "output_type": "stream",
     "text": [
      "Epsiode count: 135\n",
      "Epsiode goal: [59]\n",
      "Epsiode state sequence length = 13.\n",
      " [[60], [53], [60], [53], [58], [56], [54], [53], [58], [55], [58], [60], [52]]\n",
      "Reward list (length = 12):\n",
      " [0.1428571492433548, 0.8571428656578064, 0.1428571492433548, 1.2000000476837158, -0.5, -1.5, -5.0, 1.2000000476837158, -0.3333333432674408, 1.3333333730697632, 0.5, 0.125] \n",
      "\n",
      "Epsiode count: 136\n",
      "Epsiode goal: [56]\n",
      "Epsiode state sequence length = 13.\n",
      " [[54], [48], [57], [60], [48], [60], [60], [60], [58], [48], [50], [55], [56]]\n",
      "Reward list (length = 12):\n",
      " [-0.3333333432674408, 0.8888888955116272, -0.3333333432674408, 0.3333333432674408, 0.6666666865348816, -100.0, -100.0, 2.0, 0.20000000298023224, 4.0, 1.2000000476837158, 7.0] \n",
      "\n",
      "Epsiode count: 137\n",
      "Epsiode goal: [59]\n",
      "Epsiode state sequence length = 5.\n",
      " [[58], [56], [58], [53], [59]]\n",
      "Reward list (length = 4):\n",
      " [-0.5, 1.5, -0.20000000298023224, 7.0] \n",
      "\n"
     ]
    },
    {
     "name": "stderr",
     "output_type": "stream",
     "text": [
      "  1%|▎                                      | 140/20000 [00:15<30:51, 10.73it/s]"
     ]
    },
    {
     "name": "stdout",
     "output_type": "stream",
     "text": [
      "Epsiode count: 138\n",
      "Epsiode goal: [52]\n",
      "Epsiode state sequence length = 5.\n",
      " [[57], [57], [56], [55], [52]]\n",
      "Reward list (length = 4):\n",
      " [-100.0, 5.0, 4.0, 7.0] \n",
      "\n",
      "Epsiode count: 139\n",
      "Epsiode goal: [56]\n",
      "Epsiode state sequence length = 5.\n",
      " [[59], [48], [57], [51], [56]]\n",
      "Reward list (length = 4):\n",
      " [0.27272728085517883, 0.8888888955116272, 0.1666666716337204, 7.0] \n",
      "\n",
      "Epsiode count: 140\n",
      "Epsiode goal: [56]\n",
      "Epsiode state sequence length = 3.\n",
      " [[50], [50], [56]]\n",
      "Reward list (length = 2):\n",
      " [-100.0, 7.0] \n",
      "\n",
      "Epsiode count: 141\n",
      "Epsiode goal: [53]\n",
      "Epsiode state sequence length = 1.\n",
      " [[53]]\n",
      "Reward list (length = 0):\n",
      " [] \n",
      "\n",
      "Epsiode count: 142\n",
      "Epsiode goal: [56]\n",
      "Epsiode state sequence length = 5.\n",
      " [[50], [49], [51], [52], [56]]\n",
      "Reward list (length = 4):\n",
      " [-6.0, 3.5, 5.0, 7.0] \n",
      "\n"
     ]
    },
    {
     "name": "stderr",
     "output_type": "stream",
     "text": [
      "  1%|▎                                      | 145/20000 [00:15<19:57, 16.57it/s]"
     ]
    },
    {
     "name": "stdout",
     "output_type": "stream",
     "text": [
      "Epsiode count: 143\n",
      "Epsiode goal: [55]\n",
      "Epsiode state sequence length = 2.\n",
      " [[48], [55]]\n",
      "Reward list (length = 1):\n",
      " [7.0] \n",
      "\n",
      "Epsiode count: 144\n",
      "Epsiode goal: [53]\n",
      "Epsiode state sequence length = 5.\n",
      " [[60], [48], [55], [55], [53]]\n",
      "Reward list (length = 4):\n",
      " [0.5833333134651184, 0.7142857313156128, -100.0, 7.0] \n",
      "\n",
      "Epsiode count: 145\n",
      "Epsiode goal: [57]\n",
      "Epsiode state sequence length = 8.\n",
      " [[51], [59], [58], [53], [60], [53], [53], [57]]\n",
      "Reward list (length = 7):\n",
      " [0.75, 2.0, 0.20000000298023224, 0.5714285969734192, 0.4285714328289032, -100.0, 7.0] \n",
      "\n",
      "Epsiode count: 146\n",
      "Epsiode goal: [58]\n",
      "Epsiode state sequence length = 6.\n",
      " [[54], [56], [49], [54], [56], [58]]\n",
      "Reward list (length = 5):\n",
      " [2.0, -0.2857142984867096, 1.7999999523162842, 2.0, 7.0] \n",
      "\n"
     ]
    },
    {
     "name": "stderr",
     "output_type": "stream",
     "text": [
      "  1%|▎                                      | 147/20000 [00:15<22:04, 14.99it/s]"
     ]
    },
    {
     "name": "stdout",
     "output_type": "stream",
     "text": [
      "Epsiode count: 147\n",
      "Epsiode goal: [54]\n",
      "Epsiode state sequence length = 13.\n",
      " [[59], [48], [58], [49], [48], [58], [56], [58], [51], [58], [56], [58], [56]]\n",
      "Reward list (length = 12):\n",
      " [0.4545454680919647, 0.6000000238418579, 0.4444444477558136, -5.0, 0.6000000238418579, 2.0, -1.0, 0.5714285969734192, 0.4285714328289032, 2.0, -1.0, 2.0] \n",
      "\n",
      "Epsiode count: 148\n",
      "Epsiode goal: [48]\n"
     ]
    },
    {
     "name": "stderr",
     "output_type": "stream",
     "text": [
      "  1%|▎                                      | 149/20000 [00:15<30:49, 10.73it/s]"
     ]
    },
    {
     "name": "stdout",
     "output_type": "stream",
     "text": [
      "Epsiode state sequence length = 13.\n",
      " [[49], [51], [52], [56], [58], [56], [50], [60], [58], [56], [55], [56], [56]]\n",
      "Reward list (length = 12):\n",
      " [-0.5, -3.0, -1.0, -4.0, 5.0, 1.3333333730697632, -0.20000000298023224, 6.0, 5.0, 8.0, -7.0, -100.0] \n",
      "\n",
      "Epsiode count: 149\n",
      "Epsiode goal: [53]\n",
      "Epsiode state sequence length = 2.\n",
      " [[60], [53]]\n",
      "Reward list (length = 1):\n",
      " [7.0] \n",
      "\n",
      "Epsiode count: 150\n",
      "Epsiode goal: [50]\n",
      "Epsiode state sequence length = 13.\n",
      " [[58], [54], [53], [51], [56], [55], [56], [54], [56], [52], [54], [49], [54]]\n",
      "Reward list (length = 12):\n",
      " [2.0, 4.0, 1.5, -0.20000000298023224, 6.0, -5.0, 3.0, -2.0, 1.5, -1.0, 0.800000011920929, 0.20000000298023224] \n",
      "\n"
     ]
    },
    {
     "name": "stderr",
     "output_type": "stream",
     "text": [
      "  1%|▎                                      | 151/20000 [00:16<31:00, 10.67it/s]"
     ]
    },
    {
     "name": "stdout",
     "output_type": "stream",
     "text": [
      "Epsiode count: 151\n",
      "Epsiode goal: [59]\n",
      "Epsiode state sequence length = 13.\n",
      " [[52], [58], [52], [55], [56], [58], [53], [60], [53], [52], [56], [55], [48]]\n",
      "Reward list (length = 12):\n",
      " [1.1666666269302368, -0.1666666716337204, 2.3333332538604736, 4.0, 1.5, -0.20000000298023224, 0.8571428656578064, 0.1428571492433548, -6.0, 1.75, -3.0, -0.5714285969734192] \n",
      "\n",
      "Epsiode count: 152\n",
      "Epsiode goal: [58]\n",
      "Epsiode state sequence length = 8.\n",
      " [[49], [54], [55], [54], [56], [54], [48], [58]]\n",
      "Reward list (length = 7):\n",
      " [1.7999999523162842, 4.0, -3.0, 2.0, -1.0, -0.6666666865348816, 7.0] \n",
      "\n"
     ]
    },
    {
     "name": "stderr",
     "output_type": "stream",
     "text": [
      "  1%|▎                                      | 156/20000 [00:16<30:15, 10.93it/s]"
     ]
    },
    {
     "name": "stdout",
     "output_type": "stream",
     "text": [
      "Epsiode count: 153\n",
      "Epsiode goal: [55]\n",
      "Epsiode state sequence length = 2.\n",
      " [[58], [55]]\n",
      "Reward list (length = 1):\n",
      " [7.0] \n",
      "\n",
      "Epsiode count: 154\n",
      "Epsiode goal: [51]\n",
      "Epsiode state sequence length = 3.\n",
      " [[54], [49], [51]]\n",
      "Reward list (length = 2):\n",
      " [0.6000000238418579, 7.0] \n",
      "\n",
      "Epsiode count: 155\n",
      "Epsiode goal: [54]\n",
      "Epsiode state sequence length = 11.\n",
      " [[56], [55], [53], [48], [49], [52], [58], [53], [51], [59], [54]]\n",
      "Reward list (length = 10):\n",
      " [2.0, 0.5, -0.20000000298023224, 6.0, 1.6666666269302368, 0.3333333432674408, 0.800000011920929, -0.5, 0.375, 7.0] \n",
      "\n",
      "Epsiode count: 156\n",
      "Epsiode goal: [50]\n",
      "Epsiode state sequence length = 2.\n",
      " [[52], [50]]\n",
      "Reward list (length = 1):\n",
      " [7.0] \n",
      "\n",
      "Epsiode count: 157\n",
      "Epsiode goal: [49]\n",
      "Epsiode state sequence length = 4.\n",
      " [[59], [55], [56], [49]]\n",
      "Reward list (length = 3):\n",
      " [2.5, -6.0, 7.0] \n",
      "\n",
      "Epsiode count: 158\n",
      "Epsiode goal: [59]\n",
      "Epsiode state sequence length = 13.\n",
      " [[48], [56], [55], [52], [54], [55], [52], [58], [48], [48], [58], [53], [52]]\n",
      "Reward list (length = 12):\n",
      " [1.375, -3.0, -1.3333333730697632, 3.5, 5.0, -1.3333333730697632, 1.1666666269302368, -0.10000000149011612, -100.0, 1.100000023841858, -0.20000000298023224, -6.0] \n",
      "\n"
     ]
    },
    {
     "name": "stderr",
     "output_type": "stream",
     "text": [
      "  1%|▎                                      | 159/20000 [00:16<28:30, 11.60it/s]"
     ]
    },
    {
     "name": "stdout",
     "output_type": "stream",
     "text": [
      "Epsiode count: 159\n",
      "Epsiode goal: [52]\n",
      "Epsiode state sequence length = 7.\n",
      " [[60], [54], [58], [56], [60], [58], [52]]\n",
      "Reward list (length = 6):\n",
      " [1.3333333730697632, -0.5, 3.0, -1.0, 4.0, 7.0] \n",
      "\n",
      "Epsiode count: 160\n",
      "Epsiode goal: [58]\n",
      "Epsiode state sequence length = 13.\n",
      " [[48], [54], [56], [55], [48], [54], [55], [56], [55], [53], [51], [48], [55]]\n",
      "Reward list (length = 12):\n",
      " [1.6666666269302368, 2.0, -2.0, -0.4285714328289032, 1.6666666269302368, 4.0, 3.0, -2.0, -1.5, -2.5, -2.3333332538604736, 1.4285714626312256] \n",
      "\n"
     ]
    },
    {
     "name": "stderr",
     "output_type": "stream",
     "text": [
      "  1%|▎                                      | 161/20000 [00:17<31:58, 10.34it/s]"
     ]
    },
    {
     "name": "stdout",
     "output_type": "stream",
     "text": [
      "Epsiode count: 161\n",
      "Epsiode goal: [48]\n",
      "Epsiode state sequence length = 13.\n",
      " [[57], [56], [55], [57], [55], [52], [53], [56], [55], [56], [55], [56], [55]]\n",
      "Reward list (length = 12):\n",
      " [9.0, 8.0, -3.5, 4.5, 2.3333332538604736, -4.0, -1.6666666269302368, 8.0, -7.0, 8.0, -7.0, 8.0] \n",
      "\n",
      "Epsiode count: 162\n",
      "Epsiode goal: [54]\n"
     ]
    },
    {
     "name": "stderr",
     "output_type": "stream",
     "text": [
      "  1%|▎                                      | 163/20000 [00:17<38:45,  8.53it/s]"
     ]
    },
    {
     "name": "stdout",
     "output_type": "stream",
     "text": [
      "Epsiode state sequence length = 13.\n",
      " [[60], [53], [48], [58], [51], [48], [49], [58], [51], [49], [58], [55], [48]]\n",
      "Reward list (length = 12):\n",
      " [0.8571428656578064, -0.20000000298023224, 0.6000000238418579, 0.5714285969734192, -1.0, 6.0, 0.5555555820465088, 0.5714285969734192, -1.5, 0.5555555820465088, 1.3333333730697632, 0.1428571492433548] \n",
      "\n",
      "Epsiode count: 163\n",
      "Epsiode goal: [57]\n",
      "Epsiode state sequence length = 2.\n",
      " [[58], [57]]\n",
      "Reward list (length = 1):\n",
      " [7.0] \n",
      "\n",
      "Epsiode count: 164\n",
      "Epsiode goal: [55]\n",
      "Epsiode state sequence length = 4.\n",
      " [[58], [54], [56], [55]]\n",
      "Reward list (length = 3):\n",
      " [0.75, 0.5, 7.0] \n",
      "\n"
     ]
    },
    {
     "name": "stderr",
     "output_type": "stream",
     "text": [
      "  1%|▎                                      | 166/20000 [00:17<30:33, 10.82it/s]"
     ]
    },
    {
     "name": "stdout",
     "output_type": "stream",
     "text": [
      "Epsiode count: 165\n",
      "Epsiode goal: [51]\n",
      "Epsiode state sequence length = 7.\n",
      " [[50], [60], [53], [58], [48], [58], [51]]\n",
      "Reward list (length = 6):\n",
      " [0.10000000149011612, 1.2857142686843872, -0.4000000059604645, 0.699999988079071, 0.30000001192092896, 7.0] \n",
      "\n",
      "Epsiode count: 166\n",
      "Epsiode goal: [57]\n",
      "Epsiode state sequence length = 7.\n",
      " [[55], [55], [58], [55], [53], [52], [57]]\n",
      "Reward list (length = 6):\n",
      " [-100.0, 0.6666666865348816, 0.3333333432674408, -1.0, -4.0, 7.0] \n",
      "\n",
      "Epsiode count: 167\n",
      "Epsiode goal: [54]\n",
      "Epsiode state sequence length = 3.\n",
      " [[60], [49], [54]]\n",
      "Reward list (length = 2):\n",
      " [0.5454545617103577, 7.0] \n",
      "\n"
     ]
    },
    {
     "name": "stderr",
     "output_type": "stream",
     "text": [
      "  1%|▎                                      | 168/20000 [00:17<27:52, 11.86it/s]"
     ]
    },
    {
     "name": "stdout",
     "output_type": "stream",
     "text": [
      "Epsiode count: 168\n",
      "Epsiode goal: [52]\n",
      "Epsiode state sequence length = 13.\n",
      " [[58], [60], [58], [56], [57], [54], [56], [58], [56], [58], [56], [55], [58]]\n",
      "Reward list (length = 12):\n",
      " [-3.0, 4.0, 3.0, -4.0, 1.6666666269302368, -1.0, -2.0, 3.0, -2.0, 3.0, 4.0, -1.0] \n",
      "\n",
      "Epsiode count: 169\n",
      "Epsiode goal: [51]\n",
      "Epsiode state sequence length = 3.\n",
      " [[52], [53], [51]]\n",
      "Reward list (length = 2):\n",
      " [-1.0, 7.0] \n",
      "\n"
     ]
    },
    {
     "name": "stderr",
     "output_type": "stream",
     "text": [
      "  1%|▎                                      | 172/20000 [00:18<29:44, 11.11it/s]"
     ]
    },
    {
     "name": "stdout",
     "output_type": "stream",
     "text": [
      "Epsiode count: 170\n",
      "Epsiode goal: [59]\n",
      "Epsiode state sequence length = 13.\n",
      " [[56], [49], [58], [57], [54], [48], [58], [56], [50], [52], [55], [56], [49]]\n",
      "Reward list (length = 12):\n",
      " [-0.4285714328289032, 1.1111111640930176, -1.0, -0.6666666865348816, -0.8333333134651184, 1.100000023841858, -0.5, -0.5, 4.5, 2.3333332538604736, 4.0, -0.4285714328289032] \n",
      "\n",
      "Epsiode count: 171\n",
      "Epsiode goal: [51]\n",
      "Epsiode state sequence length = 2.\n",
      " [[49], [51]]\n",
      "Reward list (length = 1):\n",
      " [7.0] \n",
      "\n",
      "Epsiode count: 172\n",
      "Epsiode goal: [50]\n"
     ]
    },
    {
     "name": "stderr",
     "output_type": "stream",
     "text": [
      "  1%|▎                                      | 174/20000 [00:18<29:14, 11.30it/s]"
     ]
    },
    {
     "name": "stdout",
     "output_type": "stream",
     "text": [
      "Epsiode state sequence length = 11.\n",
      " [[49], [53], [48], [49], [54], [48], [53], [48], [53], [52], [50]]\n",
      "Reward list (length = 10):\n",
      " [0.25, 0.6000000238418579, 2.0, 0.20000000298023224, 0.6666666865348816, 0.4000000059604645, 0.6000000238418579, 0.4000000059604645, 3.0, 7.0] \n",
      "\n",
      "Epsiode count: 173\n",
      "Epsiode goal: [54]\n",
      "Epsiode state sequence length = 3.\n",
      " [[59], [49], [54]]\n",
      "Reward list (length = 2):\n",
      " [0.5, 7.0] \n",
      "\n",
      "Epsiode count: 174\n",
      "Epsiode goal: [56]\n",
      "Epsiode state sequence length = 7.\n",
      " [[48], [58], [48], [55], [52], [55], [56]]\n",
      "Reward list (length = 6):\n",
      " [0.800000011920929, 0.20000000298023224, 1.1428571939468384, -0.3333333432674408, 1.3333333730697632, 7.0] \n",
      "\n"
     ]
    },
    {
     "name": "stderr",
     "output_type": "stream",
     "text": [
      "  1%|▎                                      | 176/20000 [00:18<33:08,  9.97it/s]"
     ]
    },
    {
     "name": "stdout",
     "output_type": "stream",
     "text": [
      "Epsiode count: 175\n",
      "Epsiode goal: [58]\n",
      "Epsiode state sequence length = 13.\n",
      " [[49], [54], [55], [57], [54], [56], [53], [54], [56], [54], [50], [56], [54]]\n",
      "Reward list (length = 12):\n",
      " [1.7999999523162842, 4.0, 1.5, -0.3333333432674408, 2.0, -0.6666666865348816, 5.0, 2.0, -1.0, -1.0, 1.3333333730697632, -1.0] \n",
      "\n",
      "Epsiode count: 176\n",
      "Epsiode goal: [50]\n",
      "Epsiode state sequence length = 13.\n",
      " [[60], [56], [58], [52], [48], [58], [56], [52], [58], [56], [49], [51], [52]]\n",
      "Reward list (length = 12):\n",
      " [2.5, -3.0, 1.3333333730697632, 0.5, 0.20000000298023224, 4.0, 1.5, -0.3333333432674408, 4.0, 0.8571428656578064, 0.5, -1.0] \n",
      "\n",
      "Epsiode count: 177\n",
      "Epsiode goal: [54]\n",
      "Epsiode state sequence length = 13.\n",
      " [[53], [49], [58], [56], [58], [56], [49], [58], [56], [55], [52], [56], [60]]\n",
      "Reward list (length = 12):\n",
      " [-0.25, 0.5555555820465088, 2.0, -1.0, 2.0, 0.2857142984867096, 0.5555555820465088, 2.0, 2.0, 0.3333333432674408, 0.5, -0.5] \n",
      "\n"
     ]
    },
    {
     "name": "stderr",
     "output_type": "stream",
     "text": [
      "  1%|▎                                      | 179/20000 [00:18<42:46,  7.72it/s]"
     ]
    },
    {
     "name": "stdout",
     "output_type": "stream",
     "text": [
      "Epsiode count: 178\n",
      "Epsiode goal: [48]\n",
      "Epsiode state sequence length = 13.\n",
      " [[59], [54], [56], [58], [56], [55], [56], [56], [55], [56], [60], [53], [51]]\n",
      "Reward list (length = 12):\n",
      " [2.200000047683716, -3.0, -4.0, 5.0, 8.0, -7.0, -100.0, 8.0, -7.0, -2.0, 1.7142857313156128, 2.5] \n",
      "\n",
      "Epsiode count: 179\n",
      "Epsiode goal: [58]\n",
      "Epsiode state sequence length = 4.\n",
      " [[53], [52], [54], [58]]\n",
      "Reward list (length = 3):\n",
      " [-5.0, 3.0, 7.0] \n",
      "\n"
     ]
    },
    {
     "name": "stderr",
     "output_type": "stream",
     "text": [
      "  1%|▎                                      | 182/20000 [00:19<29:18, 11.27it/s]"
     ]
    },
    {
     "name": "stdout",
     "output_type": "stream",
     "text": [
      "Epsiode count: 180\n",
      "Epsiode goal: [59]\n",
      "Epsiode state sequence length = 2.\n",
      " [[51], [59]]\n",
      "Reward list (length = 1):\n",
      " [7.0] \n",
      "\n",
      "Epsiode count: 181\n",
      "Epsiode goal: [57]\n",
      "Epsiode state sequence length = 4.\n",
      " [[55], [53], [52], [57]]\n",
      "Reward list (length = 3):\n",
      " [-1.0, -4.0, 7.0] \n",
      "\n",
      "Epsiode count: 182\n",
      "Epsiode goal: [58]\n",
      "Epsiode state sequence length = 10.\n",
      " [[59], [54], [51], [56], [54], [56], [54], [49], [48], [58]]\n",
      "Reward list (length = 9):\n",
      " [0.20000000298023224, -1.3333333730697632, 1.399999976158142, -1.0, 2.0, -1.0, -0.800000011920929, -9.0, 7.0] \n",
      "\n",
      "Epsiode count: 183\n",
      "Epsiode goal: [52]\n"
     ]
    },
    {
     "name": "stderr",
     "output_type": "stream",
     "text": [
      "  1%|▎                                      | 184/20000 [00:19<33:10,  9.96it/s]"
     ]
    },
    {
     "name": "stdout",
     "output_type": "stream",
     "text": [
      "Epsiode state sequence length = 10.\n",
      " [[55], [56], [60], [58], [56], [58], [56], [58], [57], [52]]\n",
      "Reward list (length = 9):\n",
      " [-3.0, -1.0, 4.0, 3.0, -2.0, 3.0, -2.0, 6.0, 7.0] \n",
      "\n",
      "Epsiode count: 184\n",
      "Epsiode goal: [52]\n",
      "Epsiode state sequence length = 3.\n",
      " [[48], [58], [52]]\n",
      "Reward list (length = 2):\n",
      " [0.4000000059604645, 7.0] \n",
      "\n",
      "Epsiode count: 185\n",
      "Epsiode goal: [52]\n",
      "Epsiode state sequence length = 13.\n",
      " [[56], [60], [57], [58], [56], [58], [60], [56], [55], [53], [49], [59], [54]]\n",
      "Reward list (length = 12):\n",
      " [-1.0, 2.6666667461395264, -5.0, 3.0, -2.0, -3.0, 2.0, 4.0, 1.5, 0.25, 0.30000001192092896, 1.399999976158142] \n",
      "\n"
     ]
    },
    {
     "name": "stderr",
     "output_type": "stream",
     "text": [
      "  1%|▎                                      | 186/20000 [00:19<32:53, 10.04it/s]"
     ]
    },
    {
     "name": "stdout",
     "output_type": "stream",
     "text": [
      "Epsiode count: 186\n",
      "Epsiode goal: [50]\n",
      "Epsiode state sequence length = 13.\n",
      " [[49], [49], [49], [48], [58], [56], [55], [52], [56], [55], [56], [55], [50]]\n",
      "Reward list (length = 12):\n",
      " [-100.0, -100.0, -1.0, 0.20000000298023224, 4.0, 6.0, 1.6666666269302368, -0.5, 6.0, -5.0, 6.0, 7.0] \n",
      "\n",
      "Epsiode count: 187\n",
      "Epsiode goal: [49]\n",
      "Epsiode state sequence length = 13.\n",
      " [[56], [55], [56], [58], [56], [50], [55], [56], [58], [56], [58], [57], [53]]\n",
      "Reward list (length = 12):\n",
      " [7.0, -6.0, -3.5, 4.5, 1.1666666269302368, -0.20000000298023224, -6.0, -3.5, 4.5, -3.5, 9.0, 2.0] \n",
      "\n"
     ]
    },
    {
     "name": "stderr",
     "output_type": "stream",
     "text": [
      "  1%|▎                                      | 188/20000 [00:19<39:28,  8.36it/s]"
     ]
    },
    {
     "name": "stdout",
     "output_type": "stream",
     "text": [
      "Epsiode count: 188\n",
      "Epsiode goal: [55]\n",
      "Epsiode state sequence length = 6.\n",
      " [[48], [54], [60], [58], [56], [55]]\n",
      "Reward list (length = 5):\n",
      " [1.1666666269302368, 0.1666666716337204, 2.5, 1.5, 7.0] \n",
      "\n",
      "Epsiode count: 189\n",
      "Epsiode goal: [60]\n",
      "Epsiode state sequence length = 13.\n",
      " [[55], [56], [58], [53], [52], [58], [56], [58], [56], [58], [54], [58], [56]]\n",
      "Reward list (length = 12):\n",
      " [5.0, 2.0, -0.4000000059604645, -7.0, 1.3333333730697632, -1.0, 2.0, -1.0, 2.0, -0.5, 1.5, -1.0] \n",
      "\n"
     ]
    },
    {
     "name": "stderr",
     "output_type": "stream",
     "text": [
      "  1%|▎                                      | 191/20000 [00:20<40:57,  8.06it/s]"
     ]
    },
    {
     "name": "stdout",
     "output_type": "stream",
     "text": [
      "Epsiode count: 190\n",
      "Epsiode goal: [53]\n",
      "Epsiode state sequence length = 10.\n",
      " [[50], [58], [56], [55], [49], [48], [58], [56], [55], [53]]\n",
      "Reward list (length = 9):\n",
      " [0.375, 2.5, 3.0, 0.3333333432674408, -4.0, 0.5, 2.5, 3.0, 7.0] \n",
      "\n",
      "Epsiode count: 191\n",
      "Epsiode goal: [59]\n",
      "Epsiode state sequence length = 2.\n",
      " [[54], [59]]\n",
      "Reward list (length = 1):\n",
      " [7.0] \n",
      "\n",
      "Epsiode count: 192\n",
      "Epsiode goal: [48]\n",
      "Epsiode state sequence length = 13.\n",
      " [[56], [58], [56], [58], [55], [52], [56], [57], [55], [56], [55], [57], [55]]\n",
      "Reward list (length = 12):\n",
      " [-4.0, 5.0, -4.0, 3.3333332538604736, 2.3333332538604736, -1.0, -8.0, 4.5, -7.0, 8.0, -3.5, 4.5] \n",
      "\n"
     ]
    },
    {
     "name": "stderr",
     "output_type": "stream",
     "text": [
      "  1%|▍                                      | 194/20000 [00:20<41:57,  7.87it/s]"
     ]
    },
    {
     "name": "stdout",
     "output_type": "stream",
     "text": [
      "Epsiode count: 193\n",
      "Epsiode goal: [54]\n",
      "Epsiode state sequence length = 13.\n",
      " [[60], [49], [48], [58], [56], [55], [52], [56], [58], [56], [58], [56], [58]]\n",
      "Reward list (length = 12):\n",
      " [0.5454545617103577, -5.0, 0.6000000238418579, 2.0, 2.0, 0.3333333432674408, 0.5, -1.0, 2.0, -1.0, 2.0, -1.0] \n",
      "\n",
      "Epsiode count: 194\n",
      "Epsiode goal: [52]\n",
      "Epsiode state sequence length = 2.\n",
      " [[53], [52]]\n",
      "Reward list (length = 1):\n",
      " [7.0] \n",
      "\n",
      "Epsiode count: 195\n",
      "Epsiode goal: [57]\n"
     ]
    },
    {
     "name": "stderr",
     "output_type": "stream",
     "text": [
      "  1%|▍                                      | 196/20000 [00:20<37:51,  8.72it/s]"
     ]
    },
    {
     "name": "stdout",
     "output_type": "stream",
     "text": [
      "Epsiode state sequence length = 13.\n",
      " [[54], [58], [56], [58], [56], [58], [56], [55], [52], [58], [48], [55], [55]]\n",
      "Reward list (length = 12):\n",
      " [0.75, 0.5, 0.5, 0.5, 0.5, 0.5, -1.0, -0.6666666865348816, 0.8333333134651184, 0.10000000149011612, 1.2857142686843872, -100.0] \n",
      "\n",
      "Epsiode count: 196\n",
      "Epsiode goal: [48]\n",
      "Epsiode state sequence length = 13.\n",
      " [[49], [50], [56], [58], [51], [56], [55], [52], [55], [56], [55], [58], [56]]\n",
      "Reward list (length = 12):\n",
      " [-1.0, -0.3333333432674408, -4.0, 1.4285714626312256, -0.6000000238418579, 8.0, 2.3333332538604736, -1.3333333730697632, -7.0, 8.0, -2.3333332538604736, 5.0] \n",
      "\n"
     ]
    },
    {
     "name": "stderr",
     "output_type": "stream",
     "text": [
      "  1%|▍                                      | 198/20000 [00:21<46:01,  7.17it/s]"
     ]
    },
    {
     "name": "stdout",
     "output_type": "stream",
     "text": [
      "Epsiode count: 197\n",
      "Epsiode goal: [59]\n",
      "Epsiode state sequence length = 13.\n",
      " [[52], [58], [60], [53], [57], [53], [51], [56], [57], [49], [52], [55], [56]]\n",
      "Reward list (length = 12):\n",
      " [1.1666666269302368, 0.5, 0.1428571492433548, 1.5, -0.5, -3.0, 1.600000023841858, 3.0, -0.25, 3.3333332538604736, 2.3333332538604736, 4.0] \n",
      "\n",
      "Epsiode count: 198\n",
      "Epsiode goal: [49]\n"
     ]
    },
    {
     "name": "stderr",
     "output_type": "stream",
     "text": [
      "  1%|▍                                      | 199/20000 [00:21<48:25,  6.82it/s]"
     ]
    },
    {
     "name": "stdout",
     "output_type": "stream",
     "text": [
      "Epsiode state sequence length = 13.\n",
      " [[51], [56], [54], [53], [51], [59], [58], [56], [55], [56], [55], [56], [55]]\n",
      "Reward list (length = 12):\n",
      " [-0.4000000059604645, 3.5, 5.0, 2.0, -0.25, 10.0, 4.5, 7.0, -6.0, 7.0, -6.0, 7.0] \n",
      "\n",
      "Epsiode count: 199\n",
      "Epsiode goal: [51]\n",
      "Epsiode state sequence length = 2.\n",
      " [[53], [51]]\n",
      "Reward list (length = 1):\n",
      " [7.0] \n",
      "\n",
      "Epsiode count: 200\n",
      "Epsiode goal: [52]\n",
      "Epsiode state sequence length = 7.\n",
      " [[59], [56], [55], [58], [56], [55], [52]]\n",
      "Reward list (length = 6):\n",
      " [2.3333332538604736, 4.0, -1.0, 3.0, 4.0, 7.0] \n",
      "\n"
     ]
    },
    {
     "name": "stderr",
     "output_type": "stream",
     "text": [
      "  1%|▍                                      | 203/20000 [00:21<32:02, 10.30it/s]"
     ]
    },
    {
     "name": "stdout",
     "output_type": "stream",
     "text": [
      "Epsiode count: 201\n",
      "Epsiode goal: [53]\n",
      "Epsiode state sequence length = 7.\n",
      " [[59], [55], [55], [48], [58], [48], [53]]\n",
      "Reward list (length = 6):\n",
      " [1.5, -100.0, 0.2857142984867096, 0.5, 0.5, 7.0] \n",
      "\n",
      "Epsiode count: 202\n",
      "Epsiode goal: [51]\n",
      "Epsiode state sequence length = 5.\n",
      " [[58], [57], [58], [53], [51]]\n",
      "Reward list (length = 4):\n",
      " [7.0, -6.0, 1.399999976158142, 7.0] \n",
      "\n",
      "Epsiode count: 203\n",
      "Epsiode goal: [49]\n",
      "Epsiode state sequence length = 13.\n",
      " [[51], [56], [48], [58], [56], [58], [56], [58], [48], [58], [56], [58], [56]]\n",
      "Reward list (length = 12):\n",
      " [-0.4000000059604645, 0.875, 0.10000000149011612, 4.5, -3.5, 4.5, -3.5, 0.8999999761581421, 0.10000000149011612, 4.5, -3.5, 4.5] \n",
      "\n"
     ]
    },
    {
     "name": "stderr",
     "output_type": "stream",
     "text": [
      "  1%|▍                                      | 205/20000 [00:21<40:29,  8.15it/s]"
     ]
    },
    {
     "name": "stdout",
     "output_type": "stream",
     "text": [
      "Epsiode count: 204\n",
      "Epsiode goal: [48]\n",
      "Epsiode state sequence length = 13.\n",
      " [[50], [55], [55], [49], [52], [51], [56], [55], [53], [52], [58], [57], [49]]\n",
      "Reward list (length = 12):\n",
      " [-0.4000000059604645, -100.0, 1.1666666269302368, -0.3333333432674408, 4.0, -0.6000000238418579, 8.0, 3.5, 5.0, -0.6666666865348816, 10.0, 1.125] \n",
      "\n",
      "Epsiode count: 205\n",
      "Epsiode goal: [58]\n",
      "Epsiode state sequence length = 13.\n",
      " [[52], [54], [56], [53], [54], [56], [54], [56], [54], [50], [48], [54], [51]]\n",
      "Reward list (length = 12):\n",
      " [3.0, 2.0, -0.6666666865348816, 5.0, 2.0, -1.0, 2.0, -1.0, -1.0, -4.0, 1.6666666269302368, -1.3333333730697632] \n",
      "\n"
     ]
    },
    {
     "name": "stderr",
     "output_type": "stream",
     "text": [
      "  1%|▍                                      | 206/20000 [00:22<44:09,  7.47it/s]"
     ]
    },
    {
     "name": "stdout",
     "output_type": "stream",
     "text": [
      "Epsiode count: 206\n",
      "Epsiode goal: [58]\n",
      "Epsiode state sequence length = 3.\n",
      " [[48], [54], [58]]\n",
      "Reward list (length = 2):\n",
      " [1.6666666269302368, 7.0] \n",
      "\n",
      "Epsiode count: 207\n",
      "Epsiode goal: [55]\n",
      "Epsiode state sequence length = 2.\n",
      " [[59], [55]]\n",
      "Reward list (length = 1):\n",
      " [7.0] \n",
      "\n",
      "Epsiode count: 208\n",
      "Epsiode goal: [59]\n",
      "Epsiode state sequence length = 13.\n",
      " [[57], [55], [56], [55], [53], [51], [51], [58], [56], [53], [52], [55], [52]]\n",
      "Reward list (length = 12):\n",
      " [-1.0, 4.0, -3.0, -2.0, -3.0, -100.0, 1.1428571939468384, -0.5, -1.0, -6.0, 2.3333332538604736, -1.3333333730697632] \n",
      "\n"
     ]
    },
    {
     "name": "stderr",
     "output_type": "stream",
     "text": [
      "  1%|▍                                      | 210/20000 [00:22<36:27,  9.05it/s]"
     ]
    },
    {
     "name": "stdout",
     "output_type": "stream",
     "text": [
      "Epsiode count: 209\n",
      "Epsiode goal: [59]\n",
      "Epsiode state sequence length = 10.\n",
      " [[49], [52], [58], [54], [53], [58], [56], [54], [58], [59]]\n",
      "Reward list (length = 9):\n",
      " [3.3333332538604736, 1.1666666269302368, -0.25, -5.0, 1.2000000476837158, -0.5, -1.5, 1.25, 7.0] \n",
      "\n",
      "Epsiode count: 210\n",
      "Epsiode goal: [50]\n",
      "Epsiode state sequence length = 13.\n",
      " [[56], [55], [56], [55], [52], [54], [56], [58], [56], [55], [56], [55], [53]]\n",
      "Reward list (length = 12):\n",
      " [6.0, -5.0, 6.0, 1.6666666269302368, -1.0, -2.0, -3.0, 4.0, 6.0, -5.0, 6.0, 2.5] \n",
      "\n"
     ]
    },
    {
     "name": "stderr",
     "output_type": "stream",
     "text": [
      "  1%|▍                                      | 211/20000 [00:22<40:22,  8.17it/s]"
     ]
    },
    {
     "name": "stdout",
     "output_type": "stream",
     "text": [
      "Epsiode count: 211\n",
      "Epsiode goal: [57]\n",
      "Epsiode state sequence length = 4.\n",
      " [[56], [55], [58], [57]]\n",
      "Reward list (length = 3):\n",
      " [-1.0, 0.6666666865348816, 7.0] \n",
      "\n",
      "Epsiode count: 212\n",
      "Epsiode goal: [60]\n",
      "Epsiode state sequence length = 13.\n",
      " [[51], [59], [48], [53], [51], [58], [57], [58], [59], [54], [58], [56], [55]]\n",
      "Reward list (length = 12):\n",
      " [1.125, -0.09090909361839294, 2.4000000953674316, -3.5, 1.2857142686843872, -2.0, 3.0, 2.0, -0.20000000298023224, 1.5, -1.0, -4.0] \n",
      "\n"
     ]
    },
    {
     "name": "stderr",
     "output_type": "stream",
     "text": [
      "  1%|▍                                      | 216/20000 [00:23<30:33, 10.79it/s]"
     ]
    },
    {
     "name": "stdout",
     "output_type": "stream",
     "text": [
      "Epsiode count: 213\n",
      "Epsiode goal: [58]\n",
      "Epsiode state sequence length = 2.\n",
      " [[51], [58]]\n",
      "Reward list (length = 1):\n",
      " [7.0] \n",
      "\n",
      "Epsiode count: 214\n",
      "Epsiode goal: [49]\n",
      "Epsiode state sequence length = 1.\n",
      " [[49]]\n",
      "Reward list (length = 0):\n",
      " [] \n",
      "\n",
      "Epsiode count: 215\n",
      "Epsiode goal: [50]\n",
      "Epsiode state sequence length = 13.\n",
      " [[53], [52], [51], [56], [55], [52], [56], [53], [54], [51], [56], [49], [54]]\n",
      "Reward list (length = 12):\n",
      " [3.0, 2.0, -0.20000000298023224, 6.0, 1.6666666269302368, -0.5, 2.0, -3.0, 1.3333333730697632, -0.20000000298023224, 0.8571428656578064, 0.20000000298023224] \n",
      "\n",
      "Epsiode count: 216\n",
      "Epsiode goal: [56]\n",
      "Epsiode state sequence length = 2.\n",
      " [[58], [56]]\n",
      "Reward list (length = 1):\n",
      " [7.0] \n",
      "\n"
     ]
    },
    {
     "name": "stderr",
     "output_type": "stream",
     "text": [
      "  1%|▍                                      | 219/20000 [00:23<23:37, 13.95it/s]"
     ]
    },
    {
     "name": "stdout",
     "output_type": "stream",
     "text": [
      "Epsiode count: 217\n",
      "Epsiode goal: [54]\n",
      "Epsiode state sequence length = 4.\n",
      " [[58], [56], [58], [54]]\n",
      "Reward list (length = 3):\n",
      " [2.0, -1.0, 7.0] \n",
      "\n",
      "Epsiode count: 218\n",
      "Epsiode goal: [56]\n",
      "Epsiode state sequence length = 5.\n",
      " [[50], [48], [58], [55], [56]]\n",
      "Reward list (length = 4):\n",
      " [-3.0, 0.800000011920929, 0.6666666865348816, 7.0] \n",
      "\n",
      "Epsiode count: 219\n",
      "Epsiode goal: [51]\n",
      "Epsiode state sequence length = 6.\n",
      " [[56], [55], [60], [58], [54], [51]]\n",
      "Reward list (length = 5):\n",
      " [5.0, -0.800000011920929, 4.5, 1.75, 7.0] \n",
      "\n",
      "Epsiode count: 220\n",
      "Epsiode goal: [55]\n",
      "Epsiode state sequence length = 2.\n",
      " [[59], [55]]\n",
      "Reward list (length = 1):\n",
      " [7.0] \n",
      "\n",
      "Epsiode count: 221\n",
      "Epsiode goal: [58]\n",
      "Epsiode state sequence length = 3.\n",
      " [[57], [54], [58]]\n",
      "Reward list (length = 2):\n",
      " [-0.3333333432674408, 7.0] \n",
      "\n"
     ]
    },
    {
     "name": "stderr",
     "output_type": "stream",
     "text": [
      "  1%|▍                                      | 222/20000 [00:23<19:42, 16.72it/s]"
     ]
    },
    {
     "name": "stdout",
     "output_type": "stream",
     "text": [
      "Epsiode count: 222\n",
      "Epsiode goal: [59]\n",
      "Epsiode state sequence length = 13.\n",
      " [[57], [58], [56], [58], [56], [55], [48], [58], [56], [55], [52], [53], [51]]\n",
      "Reward list (length = 12):\n",
      " [2.0, -0.5, 1.5, -0.5, -3.0, -0.5714285969734192, 1.100000023841858, -0.5, -3.0, -1.3333333730697632, 7.0, -3.0] \n",
      "\n",
      "Epsiode count: 223\n",
      "Epsiode goal: [53]\n",
      "Epsiode state sequence length = 5.\n",
      " [[49], [51], [56], [55], [53]]\n",
      "Reward list (length = 4):\n",
      " [2.0, 0.4000000059604645, 3.0, 7.0] \n",
      "\n"
     ]
    },
    {
     "name": "stderr",
     "output_type": "stream",
     "text": [
      "  1%|▍                                      | 224/20000 [00:23<24:13, 13.60it/s]"
     ]
    },
    {
     "name": "stdout",
     "output_type": "stream",
     "text": [
      "Epsiode count: 224\n",
      "Epsiode goal: [60]\n",
      "Epsiode state sequence length = 13.\n",
      " [[54], [56], [52], [51], [57], [56], [58], [49], [52], [58], [57], [58], [56]]\n",
      "Reward list (length = 12):\n",
      " [3.0, -1.0, -8.0, 1.5, -3.0, 2.0, -0.2222222238779068, 3.6666667461395264, 1.3333333730697632, -2.0, 3.0, -1.0] \n",
      "\n",
      "Epsiode count: 225\n",
      "Epsiode goal: [58]\n"
     ]
    },
    {
     "name": "stderr",
     "output_type": "stream",
     "text": [
      "  1%|▍                                      | 226/20000 [00:23<33:45,  9.76it/s]"
     ]
    },
    {
     "name": "stdout",
     "output_type": "stream",
     "text": [
      "Epsiode state sequence length = 13.\n",
      " [[56], [54], [51], [54], [56], [54], [48], [55], [53], [52], [54], [56], [53]]\n",
      "Reward list (length = 12):\n",
      " [-1.0, -1.3333333730697632, 2.3333332538604736, 2.0, -1.0, -0.6666666865348816, 1.4285714626312256, -1.5, -5.0, 3.0, 2.0, -0.6666666865348816] \n",
      "\n",
      "Epsiode count: 226\n",
      "Epsiode goal: [60]\n",
      "Epsiode state sequence length = 13.\n",
      " [[59], [52], [59], [48], [58], [56], [54], [56], [52], [52], [59], [49], [54]]\n",
      "Reward list (length = 12):\n",
      " [-0.1428571492433548, 1.1428571939468384, -0.09090909361839294, 1.2000000476837158, -1.0, -2.0, 3.0, -1.0, -100.0, 1.1428571939468384, -0.10000000149011612, 2.200000047683716] \n",
      "\n"
     ]
    },
    {
     "name": "stderr",
     "output_type": "stream",
     "text": [
      "  1%|▍                                      | 228/20000 [00:24<40:06,  8.21it/s]"
     ]
    },
    {
     "name": "stdout",
     "output_type": "stream",
     "text": [
      "Epsiode count: 227\n",
      "Epsiode goal: [50]\n",
      "Epsiode state sequence length = 13.\n",
      " [[52], [55], [56], [55], [56], [54], [53], [54], [56], [53], [52], [54], [56]]\n",
      "Reward list (length = 12):\n",
      " [-0.6666666865348816, -5.0, 6.0, -5.0, 3.0, 4.0, -3.0, -2.0, 2.0, 3.0, -1.0, -2.0] \n",
      "\n",
      "Epsiode count: 228\n",
      "Epsiode goal: [49]\n",
      "Epsiode state sequence length = 10.\n",
      " [[59], [52], [59], [57], [58], [56], [55], [58], [56], [49]]\n",
      "Reward list (length = 9):\n",
      " [1.4285714626312256, -0.4285714328289032, 5.0, -8.0, 4.5, 7.0, -2.0, 4.5, 7.0] \n",
      "\n"
     ]
    },
    {
     "name": "stderr",
     "output_type": "stream",
     "text": [
      "  1%|▍                                      | 230/20000 [00:24<38:08,  8.64it/s]"
     ]
    },
    {
     "name": "stdout",
     "output_type": "stream",
     "text": [
      "Epsiode count: 229\n",
      "Epsiode goal: [57]\n",
      "Epsiode state sequence length = 6.\n",
      " [[49], [55], [53], [60], [53], [57]]\n",
      "Reward list (length = 5):\n",
      " [1.3333333730697632, -1.0, 0.5714285969734192, 0.4285714328289032, 7.0] \n",
      "\n",
      "Epsiode count: 230\n",
      "Epsiode goal: [51]\n",
      "Epsiode state sequence length = 12.\n",
      " [[54], [56], [58], [56], [55], [56], [58], [56], [49], [60], [53], [51]]\n",
      "Reward list (length = 11):\n",
      " [-1.5, -2.5, 3.5, 5.0, -4.0, -2.5, 3.5, 0.7142857313156128, 0.1818181872367859, 1.2857142686843872, 7.0] \n",
      "\n"
     ]
    },
    {
     "name": "stderr",
     "output_type": "stream",
     "text": [
      "  1%|▍                                      | 232/20000 [00:24<39:50,  8.27it/s]"
     ]
    },
    {
     "name": "stdout",
     "output_type": "stream",
     "text": [
      "Epsiode count: 231\n",
      "Epsiode goal: [57]\n",
      "Epsiode state sequence length = 8.\n",
      " [[58], [56], [58], [56], [58], [56], [58], [57]]\n",
      "Reward list (length = 7):\n",
      " [0.5, 0.5, 0.5, 0.5, 0.5, 0.5, 7.0] \n",
      "\n",
      "Epsiode count: 232\n",
      "Epsiode goal: [58]\n",
      "Epsiode state sequence length = 13.\n",
      " [[51], [48], [53], [54], [56], [54], [55], [56], [54], [55], [56], [54], [58]]\n",
      "Reward list (length = 12):\n",
      " [-2.3333332538604736, 2.0, 5.0, 2.0, -1.0, 4.0, 3.0, -1.0, 4.0, 3.0, -1.0, 7.0] \n",
      "\n"
     ]
    },
    {
     "name": "stderr",
     "output_type": "stream",
     "text": [
      "  1%|▍                                      | 234/20000 [00:24<42:26,  7.76it/s]"
     ]
    },
    {
     "name": "stdout",
     "output_type": "stream",
     "text": [
      "Epsiode count: 233\n",
      "Epsiode goal: [51]\n",
      "Epsiode state sequence length = 9.\n",
      " [[56], [55], [52], [56], [57], [58], [53], [54], [51]]\n",
      "Reward list (length = 8):\n",
      " [5.0, 1.3333333730697632, -0.25, -5.0, -6.0, 1.399999976158142, -2.0, 7.0] \n",
      "\n",
      "Epsiode count: 234\n",
      "Epsiode goal: [53]\n",
      "Epsiode state sequence length = 4.\n",
      " [[59], [54], [48], [53]]\n",
      "Reward list (length = 3):\n",
      " [1.2000000476837158, 0.1666666716337204, 7.0] \n",
      "\n",
      "Epsiode count: 235\n",
      "Epsiode goal: [55]\n",
      "Epsiode state sequence length = 3.\n",
      " [[58], [56], [55]]\n",
      "Reward list (length = 2):\n",
      " [1.5, 7.0] \n",
      "\n",
      "Epsiode count: 236\n",
      "Epsiode goal: [50]\n"
     ]
    },
    {
     "name": "stderr",
     "output_type": "stream",
     "text": [
      "  1%|▍                                      | 237/20000 [00:25<32:47, 10.04it/s]"
     ]
    },
    {
     "name": "stdout",
     "output_type": "stream",
     "text": [
      "Epsiode state sequence length = 10.\n",
      " [[60], [53], [51], [55], [56], [53], [51], [56], [55], [50]]\n",
      "Reward list (length = 9):\n",
      " [1.4285714626312256, 1.5, -0.25, -5.0, 2.0, 1.5, -0.20000000298023224, 6.0, 7.0] \n",
      "\n",
      "Epsiode count: 237\n",
      "Epsiode goal: [56]\n",
      "Epsiode state sequence length = 5.\n",
      " [[52], [60], [57], [58], [56]]\n",
      "Reward list (length = 4):\n",
      " [0.5, 1.3333333730697632, -1.0, 7.0] \n",
      "\n",
      "Epsiode count: 238\n",
      "Epsiode goal: [53]\n",
      "Epsiode state sequence length = 11.\n",
      " [[50], [49], [48], [58], [56], [58], [56], [48], [55], [56], [53]]\n",
      "Reward list (length = 10):\n",
      " [-3.0, -4.0, 0.5, 2.5, -1.5, 2.5, 0.375, 0.7142857313156128, -2.0, 7.0] \n",
      "\n"
     ]
    },
    {
     "name": "stderr",
     "output_type": "stream",
     "text": [
      "  1%|▍                                      | 241/20000 [00:25<32:51, 10.02it/s]"
     ]
    },
    {
     "name": "stdout",
     "output_type": "stream",
     "text": [
      "Epsiode count: 239\n",
      "Epsiode goal: [51]\n",
      "Epsiode state sequence length = 7.\n",
      " [[50], [58], [56], [58], [56], [49], [51]]\n",
      "Reward list (length = 6):\n",
      " [0.125, 3.5, -2.5, 3.5, 0.7142857313156128, 7.0] \n",
      "\n",
      "Epsiode count: 240\n",
      "Epsiode goal: [49]\n",
      "Epsiode state sequence length = 8.\n",
      " [[48], [55], [56], [58], [55], [58], [56], [49]]\n",
      "Reward list (length = 7):\n",
      " [0.1428571492433548, -6.0, -3.5, 3.0, -2.0, 4.5, 7.0] \n",
      "\n",
      "Epsiode count: 241\n",
      "Epsiode goal: [56]\n"
     ]
    },
    {
     "name": "stderr",
     "output_type": "stream",
     "text": [
      "  1%|▍                                      | 243/20000 [00:25<32:36, 10.10it/s]"
     ]
    },
    {
     "name": "stdout",
     "output_type": "stream",
     "text": [
      "Epsiode state sequence length = 3.\n",
      " [[54], [55], [56]]\n",
      "Reward list (length = 2):\n",
      " [2.0, 7.0] \n",
      "\n",
      "Epsiode count: 242\n",
      "Epsiode goal: [52]\n",
      "Epsiode state sequence length = 12.\n",
      " [[51], [49], [51], [56], [58], [56], [58], [56], [58], [56], [55], [52]]\n",
      "Reward list (length = 11):\n",
      " [-0.5, 1.5, 0.20000000298023224, -2.0, 3.0, -2.0, 3.0, -2.0, 3.0, 4.0, 7.0] \n",
      "\n",
      "Epsiode count: 243\n",
      "Epsiode goal: [51]\n",
      "Epsiode state sequence length = 13.\n",
      " [[58], [56], [52], [58], [57], [56], [58], [57], [58], [56], [58], [53], [60]]\n",
      "Reward list (length = 12):\n",
      " [3.5, 1.25, -0.1666666716337204, 7.0, 6.0, -2.5, 7.0, -6.0, 3.5, -2.5, 1.399999976158142, -0.2857142984867096] \n",
      "\n",
      "Epsiode count: 244\n",
      "Epsiode goal: [48]\n",
      "Epsiode state sequence length = 13.\n",
      " [[54], [56], [49], [58], [56], [49], [52], [56], [55], [53], [52], [55], [56]]\n",
      "Reward list (length = 12):\n",
      " [-3.0, 1.1428571939468384, -0.1111111119389534, 5.0, 1.1428571939468384, -0.3333333432674408, -1.0, 8.0, 3.5, 5.0, -1.3333333730697632, -7.0] \n",
      "\n"
     ]
    },
    {
     "name": "stderr",
     "output_type": "stream",
     "text": [
      "  1%|▍                                      | 246/20000 [00:26<42:57,  7.66it/s]"
     ]
    },
    {
     "name": "stdout",
     "output_type": "stream",
     "text": [
      "Epsiode count: 245\n",
      "Epsiode goal: [48]\n",
      "Epsiode state sequence length = 13.\n",
      " [[54], [53], [58], [56], [55], [56], [55], [49], [51], [58], [56], [55], [56]]\n",
      "Reward list (length = 12):\n",
      " [6.0, -1.0, 5.0, 8.0, -7.0, 8.0, 1.1666666269302368, -0.5, -0.4285714328289032, 5.0, 8.0, -7.0] \n",
      "\n",
      "Epsiode count: 246\n",
      "Epsiode goal: [56]\n",
      "Epsiode state sequence length = 1.\n",
      " [[56]]\n",
      "Reward list (length = 0):\n",
      " [] \n",
      "\n",
      "Epsiode count: 247\n",
      "Epsiode goal: [58]\n"
     ]
    },
    {
     "name": "stderr",
     "output_type": "stream",
     "text": [
      "  1%|▍                                      | 248/20000 [00:26<38:39,  8.52it/s]"
     ]
    },
    {
     "name": "stdout",
     "output_type": "stream",
     "text": [
      "Epsiode state sequence length = 13.\n",
      " [[53], [56], [54], [54], [54], [53], [49], [48], [56], [54], [53], [51], [57]]\n",
      "Reward list (length = 12):\n",
      " [1.6666666269302368, -1.0, -100.0, -100.0, -4.0, -1.25, -9.0, 1.25, -1.0, -4.0, -2.5, 1.1666666269302368] \n",
      "\n",
      "Epsiode count: 248\n",
      "Epsiode goal: [59]\n",
      "Epsiode state sequence length = 13.\n",
      " [[48], [57], [58], [52], [55], [52], [58], [56], [53], [52], [52], [57], [58]]\n",
      "Reward list (length = 12):\n",
      " [1.2222222089767456, 2.0, -0.1666666716337204, 2.3333332538604736, -1.3333333730697632, 1.1666666269302368, -0.5, -1.0, -6.0, -100.0, 1.399999976158142, 2.0] \n",
      "\n"
     ]
    },
    {
     "name": "stderr",
     "output_type": "stream",
     "text": [
      "  1%|▍                                      | 251/20000 [00:26<36:46,  8.95it/s]"
     ]
    },
    {
     "name": "stdout",
     "output_type": "stream",
     "text": [
      "Epsiode count: 249\n",
      "Epsiode goal: [56]\n",
      "Epsiode state sequence length = 6.\n",
      " [[51], [48], [53], [48], [55], [56]]\n",
      "Reward list (length = 5):\n",
      " [-1.6666666269302368, 1.600000023841858, -0.6000000238418579, 1.1428571939468384, 7.0] \n",
      "\n",
      "Epsiode count: 250\n",
      "Epsiode goal: [55]\n",
      "Epsiode state sequence length = 7.\n",
      " [[49], [60], [50], [48], [58], [57], [55]]\n",
      "Reward list (length = 6):\n",
      " [0.5454545617103577, 0.5, -2.5, 0.699999988079071, 3.0, 7.0] \n",
      "\n",
      "Epsiode count: 251\n",
      "Epsiode goal: [48]\n",
      "Epsiode state sequence length = 13.\n",
      " [[60], [57], [51], [56], [57], [59], [53], [51], [56], [55], [58], [53], [51]]\n",
      "Reward list (length = 12):\n",
      " [4.0, 1.5, -0.6000000238418579, -8.0, -4.5, 1.8333333730697632, 2.5, -0.6000000238418579, 8.0, -2.3333332538604736, 2.0, 2.5] \n",
      "\n"
     ]
    },
    {
     "name": "stderr",
     "output_type": "stream",
     "text": [
      "  1%|▍                                      | 254/20000 [00:27<33:18,  9.88it/s]"
     ]
    },
    {
     "name": "stdout",
     "output_type": "stream",
     "text": [
      "Epsiode count: 252\n",
      "Epsiode goal: [53]\n",
      "Epsiode state sequence length = 3.\n",
      " [[59], [48], [53]]\n",
      "Reward list (length = 2):\n",
      " [0.5454545617103577, 7.0] \n",
      "\n",
      "Epsiode count: 253\n",
      "Epsiode goal: [52]\n",
      "Epsiode state sequence length = 7.\n",
      " [[56], [58], [48], [58], [56], [55], [52]]\n",
      "Reward list (length = 6):\n",
      " [-2.0, 0.6000000238418579, 0.4000000059604645, 3.0, 4.0, 7.0] \n",
      "\n",
      "Epsiode count: 254\n",
      "Epsiode goal: [52]\n",
      "Epsiode state sequence length = 13.\n",
      " [[51], [55], [56], [48], [57], [49], [55], [56], [55], [56], [58], [56], [55]]\n",
      "Reward list (length = 12):\n",
      " [0.25, -3.0, 0.5, 0.4444444477558136, 0.625, 0.5, -3.0, 4.0, -3.0, -2.0, 3.0, 4.0] \n",
      "\n"
     ]
    },
    {
     "name": "stderr",
     "output_type": "stream",
     "text": [
      "  1%|▍                                      | 256/20000 [00:27<33:40,  9.77it/s]"
     ]
    },
    {
     "name": "stdout",
     "output_type": "stream",
     "text": [
      "Epsiode count: 255\n",
      "Epsiode goal: [51]\n",
      "Epsiode state sequence length = 3.\n",
      " [[58], [56], [51]]\n",
      "Reward list (length = 2):\n",
      " [3.5, 7.0] \n",
      "\n",
      "Epsiode count: 256\n",
      "Epsiode goal: [50]\n",
      "Epsiode state sequence length = 13.\n",
      " [[57], [56], [55], [56], [53], [49], [51], [56], [48], [51], [56], [54], [48]]\n",
      "Reward list (length = 12):\n",
      " [7.0, 6.0, -5.0, 2.0, 0.75, 0.5, -0.20000000298023224, 0.75, 0.6666666865348816, -0.20000000298023224, 3.0, 0.6666666865348816] \n",
      "\n"
     ]
    },
    {
     "name": "stderr",
     "output_type": "stream",
     "text": [
      "  1%|▌                                      | 258/20000 [00:27<32:16, 10.19it/s]"
     ]
    },
    {
     "name": "stdout",
     "output_type": "stream",
     "text": [
      "Epsiode count: 257\n",
      "Epsiode goal: [52]\n",
      "Epsiode state sequence length = 1.\n",
      " [[52]]\n",
      "Reward list (length = 0):\n",
      " [] \n",
      "\n",
      "Epsiode count: 258\n",
      "Epsiode goal: [60]\n",
      "Epsiode state sequence length = 12.\n",
      " [[58], [48], [58], [53], [57], [58], [56], [55], [56], [55], [58], [60]]\n",
      "Reward list (length = 11):\n",
      " [-0.20000000298023224, 1.2000000476837158, -0.4000000059604645, 1.75, 3.0, -1.0, -4.0, 5.0, -4.0, 1.6666666269302368, 7.0] \n",
      "\n",
      "Epsiode count: 259\n",
      "Epsiode goal: [56]\n",
      "Epsiode state sequence length = 5.\n",
      " [[50], [48], [58], [57], [56]]\n",
      "Reward list (length = 4):\n",
      " [-3.0, 0.800000011920929, 2.0, 7.0] \n",
      "\n"
     ]
    },
    {
     "name": "stderr",
     "output_type": "stream",
     "text": [
      "  1%|▌                                      | 260/20000 [00:27<33:10,  9.92it/s]"
     ]
    },
    {
     "name": "stdout",
     "output_type": "stream",
     "text": [
      "Epsiode count: 260\n",
      "Epsiode goal: [59]\n",
      "Epsiode state sequence length = 11.\n",
      " [[60], [53], [51], [55], [53], [57], [49], [50], [58], [57], [59]]\n",
      "Reward list (length = 10):\n",
      " [0.1428571492433548, -3.0, 2.0, -2.0, 1.5, -0.25, 10.0, 1.125, -1.0, 7.0] \n",
      "\n",
      "Epsiode count: 261\n",
      "Epsiode goal: [48]\n",
      "Epsiode state sequence length = 13.\n",
      " [[59], [51], [55], [53], [49], [51], [58], [56], [55], [56], [57], [58], [56]]\n",
      "Reward list (length = 12):\n",
      " [1.375, -0.75, 3.5, 1.25, -0.5, -0.4285714328289032, 5.0, 8.0, -7.0, -8.0, -9.0, 5.0] \n",
      "\n"
     ]
    },
    {
     "name": "stderr",
     "output_type": "stream",
     "text": [
      "  1%|▌                                      | 264/20000 [00:28<34:08,  9.63it/s]"
     ]
    },
    {
     "name": "stdout",
     "output_type": "stream",
     "text": [
      "Epsiode count: 262\n",
      "Epsiode goal: [49]\n",
      "Epsiode state sequence length = 3.\n",
      " [[52], [53], [49]]\n",
      "Reward list (length = 2):\n",
      " [-3.0, 7.0] \n",
      "\n",
      "Epsiode count: 263\n",
      "Epsiode goal: [51]\n",
      "Epsiode state sequence length = 8.\n",
      " [[59], [58], [56], [60], [58], [56], [58], [51]]\n",
      "Reward list (length = 7):\n",
      " [8.0, 3.5, -1.25, 4.5, 3.5, -2.5, 7.0] \n",
      "\n",
      "Epsiode count: 264\n",
      "Epsiode goal: [60]\n",
      "Epsiode state sequence length = 1.\n",
      " [[60]]\n",
      "Reward list (length = 0):\n",
      " [] \n",
      "\n",
      "Epsiode count: 265\n",
      "Epsiode goal: [52]\n",
      "Epsiode state sequence length = 13.\n",
      " [[48], [58], [56], [55], [56], [58], [56], [58], [60], [55], [56], [58], [56]]\n",
      "Reward list (length = 12):\n",
      " [0.4000000059604645, 3.0, 4.0, -3.0, -2.0, 3.0, -2.0, -3.0, 1.600000023841858, -3.0, -2.0, 3.0] \n",
      "\n"
     ]
    },
    {
     "name": "stderr",
     "output_type": "stream",
     "text": [
      "  1%|▌                                      | 268/20000 [00:28<31:47, 10.34it/s]"
     ]
    },
    {
     "name": "stdout",
     "output_type": "stream",
     "text": [
      "Epsiode count: 266\n",
      "Epsiode goal: [53]\n",
      "Epsiode state sequence length = 2.\n",
      " [[55], [53]]\n",
      "Reward list (length = 1):\n",
      " [7.0] \n",
      "\n",
      "Epsiode count: 267\n",
      "Epsiode goal: [48]\n",
      "Epsiode state sequence length = 13.\n",
      " [[50], [55], [56], [55], [56], [55], [56], [55], [56], [58], [56], [58], [55]]\n",
      "Reward list (length = 12):\n",
      " [-0.4000000059604645, -7.0, 8.0, -7.0, 8.0, -7.0, 8.0, -7.0, -4.0, 5.0, -4.0, 3.3333332538604736] \n",
      "\n",
      "Epsiode count: 268\n",
      "Epsiode goal: [51]\n",
      "Epsiode state sequence length = 3.\n",
      " [[59], [49], [51]]\n",
      "Reward list (length = 2):\n",
      " [0.800000011920929, 7.0] \n",
      "\n"
     ]
    },
    {
     "name": "stderr",
     "output_type": "stream",
     "text": [
      "  1%|▌                                      | 272/20000 [00:28<21:09, 15.55it/s]"
     ]
    },
    {
     "name": "stdout",
     "output_type": "stream",
     "text": [
      "Epsiode count: 269\n",
      "Epsiode goal: [52]\n",
      "Epsiode state sequence length = 2.\n",
      " [[51], [52]]\n",
      "Reward list (length = 1):\n",
      " [7.0] \n",
      "\n",
      "Epsiode count: 270\n",
      "Epsiode goal: [55]\n",
      "Epsiode state sequence length = 3.\n",
      " [[57], [56], [55]]\n",
      "Reward list (length = 2):\n",
      " [2.0, 7.0] \n",
      "\n",
      "Epsiode count: 271\n",
      "Epsiode goal: [51]\n",
      "Epsiode state sequence length = 3.\n",
      " [[55], [53], [51]]\n",
      "Reward list (length = 2):\n",
      " [2.0, 7.0] \n",
      "\n",
      "Epsiode count: 272\n",
      "Epsiode goal: [60]\n",
      "Epsiode state sequence length = 13.\n",
      " [[55], [58], [56], [58], [56], [55], [58], [57], [57], [51], [58], [56], [59]]\n",
      "Reward list (length = 12):\n",
      " [1.6666666269302368, -1.0, 2.0, -1.0, -4.0, 1.6666666269302368, -2.0, -100.0, -0.5, 1.2857142686843872, -1.0, 1.3333333730697632] \n",
      "\n"
     ]
    },
    {
     "name": "stderr",
     "output_type": "stream",
     "text": [
      "  1%|▌                                      | 274/20000 [00:28<23:02, 14.27it/s]"
     ]
    },
    {
     "name": "stdout",
     "output_type": "stream",
     "text": [
      "Epsiode count: 273\n",
      "Epsiode goal: [52]\n",
      "Epsiode state sequence length = 1.\n",
      " [[52]]\n",
      "Reward list (length = 0):\n",
      " [] \n",
      "\n",
      "Epsiode count: 274\n",
      "Epsiode goal: [55]\n",
      "Epsiode state sequence length = 4.\n",
      " [[59], [60], [57], [55]]\n",
      "Reward list (length = 3):\n",
      " [-4.0, 1.6666666269302368, 7.0] \n",
      "\n",
      "Epsiode count: 275\n",
      "Epsiode goal: [60]\n",
      "Epsiode state sequence length = 13.\n",
      " [[52], [51], [56], [48], [58], [56], [59], [58], [56], [58], [52], [58], [56]]\n",
      "Reward list (length = 12):\n",
      " [-8.0, 1.7999999523162842, -0.5, 1.2000000476837158, -1.0, 1.3333333730697632, -1.0, -1.0, 2.0, -0.3333333432674408, 1.3333333730697632, -1.0] \n",
      "\n"
     ]
    },
    {
     "name": "stderr",
     "output_type": "stream",
     "text": [
      "  1%|▌                                      | 276/20000 [00:28<26:08, 12.58it/s]"
     ]
    },
    {
     "name": "stdout",
     "output_type": "stream",
     "text": [
      "Epsiode count: 276\n",
      "Epsiode goal: [51]\n",
      "Epsiode state sequence length = 5.\n",
      " [[48], [53], [52], [58], [51]]\n",
      "Reward list (length = 4):\n",
      " [0.6000000238418579, 2.0, -0.1666666716337204, 7.0] \n",
      "\n",
      "Epsiode count: 277\n",
      "Epsiode goal: [56]\n",
      "Epsiode state sequence length = 3.\n",
      " [[57], [58], [56]]\n",
      "Reward list (length = 2):\n",
      " [-1.0, 7.0] \n",
      "\n",
      "Epsiode count: 278\n",
      "Epsiode goal: [48]\n",
      "Epsiode state sequence length = 13.\n",
      " [[54], [53], [58], [56], [55], [56], [55], [58], [56], [55], [53], [52], [55]]\n",
      "Reward list (length = 12):\n",
      " [6.0, -1.0, 5.0, 8.0, -7.0, 8.0, -2.3333332538604736, 5.0, 8.0, 3.5, 5.0, -1.3333333730697632] \n",
      "\n"
     ]
    },
    {
     "name": "stderr",
     "output_type": "stream",
     "text": [
      "  1%|▌                                      | 279/20000 [00:29<27:05, 12.13it/s]"
     ]
    },
    {
     "name": "stdout",
     "output_type": "stream",
     "text": [
      "Epsiode count: 279\n",
      "Epsiode goal: [57]\n",
      "Epsiode state sequence length = 3.\n",
      " [[51], [56], [57]]\n",
      "Reward list (length = 2):\n",
      " [1.2000000476837158, 7.0] \n",
      "\n",
      "Epsiode count: 280\n",
      "Epsiode goal: [49]\n",
      "Epsiode state sequence length = 13.\n",
      " [[59], [51], [55], [53], [58], [56], [55], [48], [58], [54], [58], [56], [55]]\n",
      "Reward list (length = 12):\n",
      " [1.25, -0.5, 3.0, -0.800000011920929, 4.5, 7.0, 0.8571428656578064, 0.10000000149011612, 2.25, -1.25, 4.5, 7.0] \n",
      "\n"
     ]
    },
    {
     "name": "stderr",
     "output_type": "stream",
     "text": [
      "  1%|▌                                      | 283/20000 [00:29<28:35, 11.49it/s]"
     ]
    },
    {
     "name": "stdout",
     "output_type": "stream",
     "text": [
      "Epsiode count: 281\n",
      "Epsiode goal: [60]\n",
      "Epsiode state sequence length = 13.\n",
      " [[54], [56], [51], [49], [51], [58], [56], [48], [58], [56], [58], [56], [55]]\n",
      "Reward list (length = 12):\n",
      " [3.0, -0.800000011920929, -4.5, 5.5, 1.2857142686843872, -1.0, -0.5, 1.2000000476837158, -1.0, 2.0, -1.0, -4.0] \n",
      "\n",
      "Epsiode count: 282\n",
      "Epsiode goal: [54]\n",
      "Epsiode state sequence length = 1.\n",
      " [[54]]\n",
      "Reward list (length = 0):\n",
      " [] \n",
      "\n",
      "Epsiode count: 283\n",
      "Epsiode goal: [57]\n",
      "Epsiode state sequence length = 2.\n",
      " [[59], [57]]\n",
      "Reward list (length = 1):\n",
      " [7.0] \n",
      "\n",
      "Epsiode count: 284\n",
      "Epsiode goal: [52]\n"
     ]
    },
    {
     "name": "stderr",
     "output_type": "stream",
     "text": [
      "  1%|▌                                      | 285/20000 [00:29<26:36, 12.35it/s]"
     ]
    },
    {
     "name": "stdout",
     "output_type": "stream",
     "text": [
      "Epsiode state sequence length = 7.\n",
      " [[60], [53], [50], [48], [58], [57], [52]]\n",
      "Reward list (length = 6):\n",
      " [1.1428571939468384, 0.3333333432674408, -1.0, 0.4000000059604645, 6.0, 7.0] \n",
      "\n",
      "Epsiode count: 285\n",
      "Epsiode goal: [49]\n",
      "Epsiode state sequence length = 1.\n",
      " [[49]]\n",
      "Reward list (length = 0):\n",
      " [] \n",
      "\n",
      "Epsiode count: 286\n",
      "Epsiode goal: [57]\n",
      "Epsiode state sequence length = 12.\n",
      " [[60], [60], [53], [54], [55], [58], [53], [58], [56], [55], [58], [57]]\n",
      "Reward list (length = 11):\n",
      " [-100.0, 0.4285714328289032, 4.0, 3.0, 0.6666666865348816, 0.20000000298023224, 0.800000011920929, 0.5, -1.0, 0.6666666865348816, 7.0] \n",
      "\n"
     ]
    },
    {
     "name": "stderr",
     "output_type": "stream",
     "text": [
      "  1%|▌                                      | 287/20000 [00:29<26:38, 12.33it/s]"
     ]
    },
    {
     "name": "stdout",
     "output_type": "stream",
     "text": [
      "Epsiode count: 287\n",
      "Epsiode goal: [53]\n",
      "Epsiode state sequence length = 1.\n",
      " [[53]]\n",
      "Reward list (length = 0):\n",
      " [] \n",
      "\n",
      "Epsiode count: 288\n",
      "Epsiode goal: [56]\n",
      "Epsiode state sequence length = 5.\n",
      " [[53], [60], [53], [57], [56]]\n",
      "Reward list (length = 4):\n",
      " [0.4285714328289032, 0.5714285969734192, 0.75, 7.0] \n",
      "\n",
      "Epsiode count: 289\n",
      "Epsiode goal: [54]\n",
      "Epsiode state sequence length = 13.\n",
      " [[55], [53], [51], [52], [56], [55], [52], [51], [58], [59], [49], [51], [58]]\n",
      "Reward list (length = 12):\n",
      " [0.5, -0.5, 3.0, 0.5, 2.0, 0.3333333432674408, -2.0, 0.4285714328289032, -4.0, 0.5, 2.5, 0.4285714328289032] \n",
      "\n"
     ]
    },
    {
     "name": "stderr",
     "output_type": "stream",
     "text": [
      "  1%|▌                                      | 290/20000 [00:30<26:35, 12.36it/s]"
     ]
    },
    {
     "name": "stdout",
     "output_type": "stream",
     "text": [
      "Epsiode count: 290\n",
      "Epsiode goal: [54]\n",
      "Epsiode state sequence length = 13.\n",
      " [[50], [55], [49], [58], [53], [52], [49], [52], [58], [56], [55], [58], [52]]\n",
      "Reward list (length = 12):\n",
      " [0.800000011920929, 0.1666666716337204, 0.5555555820465088, 0.800000011920929, -1.0, -0.6666666865348816, 1.6666666269302368, 0.3333333432674408, 2.0, 2.0, -0.3333333432674408, 0.6666666865348816] \n",
      "\n",
      "Epsiode count: 291\n",
      "Epsiode goal: [52]\n",
      "Epsiode state sequence length = 3.\n",
      " [[60], [58], [52]]\n",
      "Reward list (length = 2):\n",
      " [4.0, 7.0] \n",
      "\n"
     ]
    },
    {
     "name": "stderr",
     "output_type": "stream",
     "text": [
      "  1%|▌                                      | 292/20000 [00:30<28:37, 11.48it/s]"
     ]
    },
    {
     "name": "stdout",
     "output_type": "stream",
     "text": [
      "Epsiode count: 292\n",
      "Epsiode goal: [53]\n",
      "Epsiode state sequence length = 5.\n",
      " [[51], [48], [56], [58], [53]]\n",
      "Reward list (length = 4):\n",
      " [-0.6666666865348816, 0.625, -1.5, 7.0] \n",
      "\n",
      "Epsiode count: 293\n",
      "Epsiode goal: [50]\n",
      "Epsiode state sequence length = 13.\n",
      " [[59], [49], [55], [52], [53], [49], [54], [55], [56], [55], [52], [54], [56]]\n",
      "Reward list (length = 12):\n",
      " [0.8999999761581421, 0.1666666716337204, 1.6666666269302368, -2.0, 0.75, 0.20000000298023224, -4.0, -5.0, 6.0, 1.6666666269302368, -1.0, -2.0] \n",
      "\n"
     ]
    },
    {
     "name": "stderr",
     "output_type": "stream",
     "text": [
      "  1%|▌                                      | 294/20000 [00:30<31:54, 10.29it/s]"
     ]
    },
    {
     "name": "stdout",
     "output_type": "stream",
     "text": [
      "Epsiode count: 294\n",
      "Epsiode goal: [58]\n",
      "Epsiode state sequence length = 13.\n",
      " [[53], [51], [56], [55], [54], [56], [55], [53], [54], [55], [56], [59], [52]]\n",
      "Reward list (length = 12):\n",
      " [-2.5, 1.399999976158142, -2.0, -3.0, 2.0, -2.0, -1.5, 5.0, 4.0, 3.0, 0.6666666865348816, 0.1428571492433548] \n",
      "\n",
      "Epsiode count: 295\n",
      "Epsiode goal: [51]\n",
      "Epsiode state sequence length = 8.\n",
      " [[54], [58], [56], [49], [58], [56], [49], [51]]\n",
      "Reward list (length = 7):\n",
      " [-0.75, 3.5, 0.7142857313156128, 0.2222222238779068, 3.5, 0.7142857313156128, 7.0] \n",
      "\n"
     ]
    },
    {
     "name": "stderr",
     "output_type": "stream",
     "text": [
      "  1%|▌                                      | 297/20000 [00:31<36:13,  9.07it/s]"
     ]
    },
    {
     "name": "stdout",
     "output_type": "stream",
     "text": [
      "Epsiode count: 296\n",
      "Epsiode goal: [59]\n",
      "Epsiode state sequence length = 9.\n",
      " [[51], [56], [53], [58], [53], [52], [53], [58], [59]]\n",
      "Reward list (length = 8):\n",
      " [1.600000023841858, -1.0, 1.2000000476837158, -0.20000000298023224, -6.0, 7.0, 1.2000000476837158, 7.0] \n",
      "\n",
      "Epsiode count: 297\n",
      "Epsiode goal: [56]\n",
      "Epsiode state sequence length = 1.\n",
      " [[56]]\n",
      "Reward list (length = 0):\n",
      " [] \n",
      "\n",
      "Epsiode count: 298\n",
      "Epsiode goal: [55]\n",
      "Epsiode state sequence length = 3.\n",
      " [[59], [57], [55]]\n",
      "Reward list (length = 2):\n",
      " [2.0, 7.0] \n",
      "\n",
      "Epsiode count: 299\n",
      "Epsiode goal: [52]\n",
      "Epsiode state sequence length = 1.\n",
      " [[52]]\n",
      "Reward list (length = 0):\n",
      " [] \n",
      "\n",
      "Epsiode count: 300\n",
      "Epsiode goal: [52]\n",
      "Epsiode state sequence length = 11.\n",
      " [[49], [48], [58], [56], [55], [54], [56], [55], [56], [55], [52]]\n",
      "Reward list (length = 10):\n",
      " [-3.0, 0.4000000059604645, 3.0, 4.0, 3.0, -1.0, 4.0, -3.0, 4.0, 7.0] \n",
      "\n"
     ]
    },
    {
     "name": "stderr",
     "output_type": "stream",
     "text": [
      "  2%|▌                                      | 301/20000 [00:31<25:38, 12.80it/s]"
     ]
    },
    {
     "name": "stdout",
     "output_type": "stream",
     "text": [
      "Epsiode count: 301\n",
      "Epsiode goal: [57]\n",
      "Epsiode state sequence length = 12.\n",
      " [[56], [55], [53], [58], [56], [55], [53], [51], [58], [56], [55], [57]]\n",
      "Reward list (length = 11):\n",
      " [-1.0, -1.0, 0.800000011920929, 0.5, -1.0, -1.0, -2.0, 0.8571428656578064, 0.5, -1.0, 7.0] \n",
      "\n",
      "Epsiode count: 302\n",
      "Epsiode goal: [53]\n",
      "Epsiode state sequence length = 5.\n",
      " [[57], [55], [56], [55], [53]]\n",
      "Reward list (length = 4):\n",
      " [2.0, -2.0, 3.0, 7.0] \n",
      "\n"
     ]
    },
    {
     "name": "stderr",
     "output_type": "stream",
     "text": [
      "  2%|▌                                      | 303/20000 [00:31<34:03,  9.64it/s]"
     ]
    },
    {
     "name": "stdout",
     "output_type": "stream",
     "text": [
      "Epsiode count: 303\n",
      "Epsiode goal: [49]\n"
     ]
    },
    {
     "name": "stderr",
     "output_type": "stream",
     "text": [
      "\n"
     ]
    },
    {
     "ename": "KeyboardInterrupt",
     "evalue": "",
     "output_type": "error",
     "traceback": [
      "\u001b[0;31m---------------------------------------------------------------------------\u001b[0m",
      "\u001b[0;31mKeyboardInterrupt\u001b[0m                         Traceback (most recent call last)",
      "Cell \u001b[0;32mIn[71], line 32\u001b[0m\n\u001b[1;32m     28\u001b[0m simple_reward_list \u001b[38;5;241m=\u001b[39m []\n\u001b[1;32m     30\u001b[0m \u001b[38;5;28;01mwhile\u001b[39;00m (agent\u001b[38;5;241m.\u001b[39mchord_episode[\u001b[38;5;241m-\u001b[39m\u001b[38;5;241m1\u001b[39m] \u001b[38;5;241m!=\u001b[39m agent\u001b[38;5;241m.\u001b[39mfinal_chord) \u001b[38;5;129;01mand\u001b[39;00m (\u001b[38;5;28mlen\u001b[39m(agent\u001b[38;5;241m.\u001b[39mchord_episode) \u001b[38;5;241m<\u001b[39m\u001b[38;5;241m=\u001b[39m max_sequence_length):\n\u001b[0;32m---> 32\u001b[0m     \u001b[43magent\u001b[49m\u001b[38;5;241;43m.\u001b[39;49m\u001b[43mnext_interval\u001b[49m\u001b[43m(\u001b[49m\u001b[43m)\u001b[49m\n\u001b[1;32m     34\u001b[0m     reward \u001b[38;5;241m=\u001b[39m torch\u001b[38;5;241m.\u001b[39mTensor([agent\u001b[38;5;241m.\u001b[39mlast_reward()])\n\u001b[1;32m     35\u001b[0m     reward_list\u001b[38;5;241m.\u001b[39mappend(reward)\n",
      "Cell \u001b[0;32mIn[66], line 42\u001b[0m, in \u001b[0;36mAgent_01.next_interval\u001b[0;34m(self)\u001b[0m\n\u001b[1;32m     39\u001b[0m \u001b[38;5;28;01mdef\u001b[39;00m \u001b[38;5;21mnext_interval\u001b[39m(\u001b[38;5;28mself\u001b[39m):\n\u001b[1;32m     40\u001b[0m     chord_0 \u001b[38;5;241m=\u001b[39m \u001b[38;5;28mself\u001b[39m\u001b[38;5;241m.\u001b[39mchord_episode[\u001b[38;5;241m-\u001b[39m\u001b[38;5;241m1\u001b[39m]\n\u001b[0;32m---> 42\u001b[0m     next_chord \u001b[38;5;241m=\u001b[39m \u001b[43mpolicy\u001b[49m\u001b[38;5;241;43m.\u001b[39;49m\u001b[43maction\u001b[49m\u001b[43m(\u001b[49m\u001b[43mchord_0\u001b[49m\u001b[43m,\u001b[49m\u001b[43m \u001b[49m\u001b[38;5;28;43mself\u001b[39;49m\u001b[38;5;241;43m.\u001b[39;49m\u001b[43mfinal_chord\u001b[49m\u001b[43m)\u001b[49m\n\u001b[1;32m     43\u001b[0m     next_tensor \u001b[38;5;241m=\u001b[39m \u001b[38;5;28mself\u001b[39m\u001b[38;5;241m.\u001b[39mchord_to_tensor[\u001b[38;5;28mtuple\u001b[39m(next_chord)]\n\u001b[1;32m     45\u001b[0m     \u001b[38;5;28mself\u001b[39m\u001b[38;5;241m.\u001b[39mchord_episode\u001b[38;5;241m.\u001b[39mappend(next_chord)\n",
      "Cell \u001b[0;32mIn[64], line 89\u001b[0m, in \u001b[0;36mPolicy_01.action\u001b[0;34m(self, chord_0, final_chord)\u001b[0m\n\u001b[1;32m     85\u001b[0m final_onehot \u001b[38;5;241m=\u001b[39m \u001b[38;5;28mself\u001b[39m\u001b[38;5;241m.\u001b[39mchord_to_tensor[\u001b[38;5;28mtuple\u001b[39m(final_chord)]\n\u001b[1;32m     87\u001b[0m policy_input \u001b[38;5;241m=\u001b[39m torch\u001b[38;5;241m.\u001b[39mcat((onehot_0, final_onehot))\n\u001b[0;32m---> 89\u001b[0m policy_output \u001b[38;5;241m=\u001b[39m \u001b[38;5;28;43mself\u001b[39;49m\u001b[38;5;241;43m.\u001b[39;49m\u001b[43mforward\u001b[49m\u001b[43m(\u001b[49m\u001b[43mpolicy_input\u001b[49m\u001b[43m)\u001b[49m\n\u001b[1;32m     91\u001b[0m max_index \u001b[38;5;241m=\u001b[39m torch\u001b[38;5;241m.\u001b[39margmax(policy_output)\u001b[38;5;241m.\u001b[39mitem()\n\u001b[1;32m     93\u001b[0m chord_that_maximizes \u001b[38;5;241m=\u001b[39m \u001b[38;5;28mself\u001b[39m\u001b[38;5;241m.\u001b[39mindex_to_chord[max_index]\n",
      "Cell \u001b[0;32mIn[64], line 62\u001b[0m, in \u001b[0;36mPolicy_01.forward\u001b[0;34m(self, x)\u001b[0m\n\u001b[1;32m     59\u001b[0m \u001b[38;5;28;01mfor\u001b[39;00m i, layer \u001b[38;5;129;01min\u001b[39;00m \u001b[38;5;28menumerate\u001b[39m(\u001b[38;5;28mself\u001b[39m\u001b[38;5;241m.\u001b[39mlayers):\n\u001b[1;32m     60\u001b[0m     \u001b[38;5;28;01mif\u001b[39;00m \u001b[38;5;241m1\u001b[39m \u001b[38;5;241m<\u001b[39m\u001b[38;5;241m=\u001b[39m i \u001b[38;5;241m<\u001b[39m \u001b[38;5;28mself\u001b[39m\u001b[38;5;241m.\u001b[39mlayer_count\u001b[38;5;241m-\u001b[39m\u001b[38;5;241m1\u001b[39m:\n\u001b[1;32m     61\u001b[0m         \u001b[38;5;66;03m#print(i)\u001b[39;00m\n\u001b[0;32m---> 62\u001b[0m         features \u001b[38;5;241m=\u001b[39m \u001b[43mlayer\u001b[49m\u001b[43m(\u001b[49m\u001b[43mactivated_features\u001b[49m\u001b[43m)\u001b[49m \u001b[38;5;241m+\u001b[39m activated_features\n\u001b[1;32m     63\u001b[0m         activated_features \u001b[38;5;241m=\u001b[39m \u001b[38;5;28mself\u001b[39m\u001b[38;5;241m.\u001b[39mintermediate_activation(features)\n\u001b[1;32m     64\u001b[0m         activated_features \u001b[38;5;241m=\u001b[39m \u001b[38;5;28mself\u001b[39m\u001b[38;5;241m.\u001b[39mdropout(features)\n",
      "File \u001b[0;32m~/opt/anaconda3/lib/python3.8/site-packages/torch/nn/modules/module.py:1110\u001b[0m, in \u001b[0;36mModule._call_impl\u001b[0;34m(self, *input, **kwargs)\u001b[0m\n\u001b[1;32m   1106\u001b[0m \u001b[38;5;66;03m# If we don't have any hooks, we want to skip the rest of the logic in\u001b[39;00m\n\u001b[1;32m   1107\u001b[0m \u001b[38;5;66;03m# this function, and just call forward.\u001b[39;00m\n\u001b[1;32m   1108\u001b[0m \u001b[38;5;28;01mif\u001b[39;00m \u001b[38;5;129;01mnot\u001b[39;00m (\u001b[38;5;28mself\u001b[39m\u001b[38;5;241m.\u001b[39m_backward_hooks \u001b[38;5;129;01mor\u001b[39;00m \u001b[38;5;28mself\u001b[39m\u001b[38;5;241m.\u001b[39m_forward_hooks \u001b[38;5;129;01mor\u001b[39;00m \u001b[38;5;28mself\u001b[39m\u001b[38;5;241m.\u001b[39m_forward_pre_hooks \u001b[38;5;129;01mor\u001b[39;00m _global_backward_hooks\n\u001b[1;32m   1109\u001b[0m         \u001b[38;5;129;01mor\u001b[39;00m _global_forward_hooks \u001b[38;5;129;01mor\u001b[39;00m _global_forward_pre_hooks):\n\u001b[0;32m-> 1110\u001b[0m     \u001b[38;5;28;01mreturn\u001b[39;00m \u001b[43mforward_call\u001b[49m\u001b[43m(\u001b[49m\u001b[38;5;241;43m*\u001b[39;49m\u001b[38;5;28;43minput\u001b[39;49m\u001b[43m,\u001b[49m\u001b[43m \u001b[49m\u001b[38;5;241;43m*\u001b[39;49m\u001b[38;5;241;43m*\u001b[39;49m\u001b[43mkwargs\u001b[49m\u001b[43m)\u001b[49m\n\u001b[1;32m   1111\u001b[0m \u001b[38;5;66;03m# Do not call functions when jit is used\u001b[39;00m\n\u001b[1;32m   1112\u001b[0m full_backward_hooks, non_full_backward_hooks \u001b[38;5;241m=\u001b[39m [], []\n",
      "File \u001b[0;32m~/opt/anaconda3/lib/python3.8/site-packages/torch/nn/modules/linear.py:103\u001b[0m, in \u001b[0;36mLinear.forward\u001b[0;34m(self, input)\u001b[0m\n\u001b[1;32m    102\u001b[0m \u001b[38;5;28;01mdef\u001b[39;00m \u001b[38;5;21mforward\u001b[39m(\u001b[38;5;28mself\u001b[39m, \u001b[38;5;28minput\u001b[39m: Tensor) \u001b[38;5;241m-\u001b[39m\u001b[38;5;241m>\u001b[39m Tensor:\n\u001b[0;32m--> 103\u001b[0m     \u001b[38;5;28;01mreturn\u001b[39;00m \u001b[43mF\u001b[49m\u001b[38;5;241;43m.\u001b[39;49m\u001b[43mlinear\u001b[49m\u001b[43m(\u001b[49m\u001b[38;5;28;43minput\u001b[39;49m\u001b[43m,\u001b[49m\u001b[43m \u001b[49m\u001b[38;5;28;43mself\u001b[39;49m\u001b[38;5;241;43m.\u001b[39;49m\u001b[43mweight\u001b[49m\u001b[43m,\u001b[49m\u001b[43m \u001b[49m\u001b[38;5;28;43mself\u001b[39;49m\u001b[38;5;241;43m.\u001b[39;49m\u001b[43mbias\u001b[49m\u001b[43m)\u001b[49m\n",
      "\u001b[0;31mKeyboardInterrupt\u001b[0m: "
     ]
    }
   ],
   "source": [
    "max_sequence_length = 12\n",
    "\n",
    "episode_count = 20000\n",
    "present_bias = 1.0\n",
    "learning_rate = 1e-7\n",
    "\n",
    "# Optimizers specified in the torch.optim package\n",
    "optimizer = torch.optim.SGD(policy.parameters(), lr = learning_rate)\n",
    "\n",
    "for episode_number in tqdm(range(episode_count)):\n",
    "    \n",
    "    # print('\\n________________________________________________________________________\\n')\n",
    "    \n",
    "    print('Epsiode count:', episode_number)\n",
    "    \n",
    "    random_starting_chord = policy.random_chord.sample()\n",
    "    starting_tensor = policy.chord_to_tensor[tuple(random_starting_chord)]\n",
    "    \n",
    "    agent.chord_episode = [random_starting_chord]\n",
    "    agent.tensor_episode = [starting_tensor]\n",
    "    \n",
    "    agent.final_chord = policy.random_chord.sample()\n",
    "    agent.final_tensor = agent.chord_to_tensor[tuple(agent.final_chord)]\n",
    "    \n",
    "    print('Epsiode goal:', agent.final_chord)\n",
    "    \n",
    "    reward_list = []\n",
    "    simple_reward_list = []\n",
    "    \n",
    "    while (agent.chord_episode[-1] != agent.final_chord) and (len(agent.chord_episode) <= max_sequence_length):\n",
    "        \n",
    "        agent.next_interval()\n",
    "        \n",
    "        reward = torch.Tensor([agent.last_reward()])\n",
    "        reward_list.append(reward)\n",
    "        simple_reward_list.append(reward.item())\n",
    "        \n",
    "        \n",
    "    return_list = []\n",
    "    simple_return_list = []\n",
    "    \n",
    "    for index in range(len(reward_list)):\n",
    "        term_list = reward_list[index:]\n",
    "        present_return = sum(term_list)\n",
    "        return_list.append(present_return)\n",
    "        simple_return_list.append(present_return.item())\n",
    "        \n",
    "    print('Epsiode state sequence length = {}.\\n'.format(len(agent.chord_episode)), agent.chord_episode)\n",
    "    print('Reward list (length = {}):\\n'.format(len(simple_reward_list)), simple_reward_list, '\\n')\n",
    "#    print('Return list (length = {}):\\n'.format(len(return_list)), return_list, '\\n')\n",
    "        \n",
    "    for index in range(len(agent.chord_episode)-1):\n",
    "        \n",
    "        optimizer.zero_grad()\n",
    "        \n",
    "        in_tensor = agent.tensor_episode[index]\n",
    "        \n",
    "        out_chord = agent.chord_episode[index+1]\n",
    "        out_index = agent.policy.chord_to_index[tuple(out_chord)]\n",
    "        \n",
    "        policy_value = policy(torch.cat((in_tensor, agent.final_tensor)))[out_index].unsqueeze(-1)\n",
    "        \n",
    "        present_return = reward_list[index]\n",
    "        \n",
    "        loss = -present_return * torch.log(policy_value)\n",
    "        \n",
    "        loss.backward()\n",
    "\n",
    "        # Adjust learning weights\n",
    "        optimizer.step()"
   ]
  },
  {
   "cell_type": "code",
   "execution_count": null,
   "id": "2345ae18-1a9e-4201-89bc-c946e430241f",
   "metadata": {},
   "outputs": [],
   "source": []
  },
  {
   "cell_type": "code",
   "execution_count": null,
   "id": "ea603ef9-1e42-482f-aeee-9c151f817be3",
   "metadata": {},
   "outputs": [],
   "source": []
  },
  {
   "cell_type": "code",
   "execution_count": null,
   "id": "422332aa-db15-450e-86f6-d9f279219d7e",
   "metadata": {},
   "outputs": [],
   "source": []
  }
 ],
 "metadata": {
  "kernelspec": {
   "display_name": "Python 3 (ipykernel)",
   "language": "python",
   "name": "python3"
  },
  "language_info": {
   "codemirror_mode": {
    "name": "ipython",
    "version": 3
   },
   "file_extension": ".py",
   "mimetype": "text/x-python",
   "name": "python",
   "nbconvert_exporter": "python",
   "pygments_lexer": "ipython3",
   "version": "3.8.8"
  },
  "toc-autonumbering": true,
  "vscode": {
   "interpreter": {
    "hash": "aee8b7b246df8f9039afb4144a1f6fd8d2ca17a180786b69acc140d282b71a49"
   }
  }
 },
 "nbformat": 4,
 "nbformat_minor": 5
}
